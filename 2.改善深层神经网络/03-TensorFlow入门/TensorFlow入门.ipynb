{
 "cells": [
  {
   "cell_type": "code",
   "execution_count": 32,
   "id": "32e5247b",
   "metadata": {},
   "outputs": [],
   "source": [
    "import tensorflow.compat.v1 as tf\n",
    "import tensorflow\n",
    "import numpy as np\n",
    "import h5py\n",
    "import matplotlib.pyplot as plt\n",
    "from tensorflow.python.framework import ops\n",
    "import tf_utils\n",
    "import time"
   ]
  },
  {
   "cell_type": "markdown",
   "id": "1e8bd12a",
   "metadata": {},
   "source": [
    "## TensorFlow代码实现结构如下：\n",
    "### 1、创建TensorFlow变量\n",
    "### 2、实现TensorFlow变量之间的操作定义\n",
    "### 3、初始化TensorFlow变量\n",
    "### 4、创建Session\n",
    "### 5、运行Session，之前编写的操作都会在这一步运行"
   ]
  },
  {
   "cell_type": "code",
   "execution_count": 14,
   "id": "97c06df7",
   "metadata": {},
   "outputs": [
    {
     "name": "stdout",
     "output_type": "stream",
     "text": [
      "9\n"
     ]
    }
   ],
   "source": [
    "np.random.seed(1)\n",
    "\n",
    "tf.disable_eager_execution() \n",
    "\n",
    "y_hat = tf.constant(36,name=\"y_hat\") #定义y_hat常量为36\n",
    "y = tf.constant(39,name=\"y\") # 定义y常量为39\n",
    "\n",
    "loss = tf.Variable((y-y_hat)**2,name=\"loss\") # 定义损失函数为一个变量\n",
    "init = tf.global_variables_initializer() # 初始化变量，损失函数将被初始化并准备计算\n",
    "\n",
    "with tf.Session() as session: # 创建一个session\n",
    "    session.run(init) # 运行初始化变量\n",
    "    print(session.run(loss))\n"
   ]
  },
  {
   "cell_type": "markdown",
   "id": "8f493517",
   "metadata": {},
   "source": [
    "## 占位符（placeholders）\n",
    "### 占位符是一个对象，它的值只能在稍后指定，要指定占位符的值，可以使用一个feed字典（feed_dict变量）来传入"
   ]
  },
  {
   "cell_type": "code",
   "execution_count": 18,
   "id": "555d0497",
   "metadata": {},
   "outputs": [
    {
     "name": "stdout",
     "output_type": "stream",
     "text": [
      "6\n"
     ]
    }
   ],
   "source": [
    "x = tf.placeholder(tf.int64,name=\"x\")\n",
    "print(sess.run(2 * x, feed_dict={x:3}))\n",
    "sess.close()"
   ]
  },
  {
   "cell_type": "markdown",
   "id": "13632b57",
   "metadata": {},
   "source": [
    "### 1.1 线性函数"
   ]
  },
  {
   "cell_type": "code",
   "execution_count": 19,
   "id": "975ad6a3",
   "metadata": {},
   "outputs": [],
   "source": [
    "def linear_function():\n",
    "    \"\"\"线性函数Y=WX+b\"\"\"\n",
    "    np.random.seed(1)\n",
    "    \n",
    "    X = np.random.randn(3,1)\n",
    "    W = np.random.randn(4,3)\n",
    "    b = np.random.randn(4,1)\n",
    "    \n",
    "    Y = tf.add(tf.matmul(W,X),b) #matmul矩阵乘法\n",
    "    \n",
    "    # 创建session并运行\n",
    "    sess = tf.Session()\n",
    "    result = sess.run(Y)\n",
    "    \n",
    "    # session使用完毕，关闭\n",
    "    sess.close()\n",
    "    \n",
    "    return result\n",
    "    "
   ]
  },
  {
   "cell_type": "code",
   "execution_count": 20,
   "id": "e5d0f18d",
   "metadata": {},
   "outputs": [
    {
     "name": "stdout",
     "output_type": "stream",
     "text": [
      "[[-2.15657382]\n",
      " [ 2.95891446]\n",
      " [-1.08926781]\n",
      " [-0.84538042]]\n"
     ]
    }
   ],
   "source": [
    "# 测试线性函数\n",
    "print(linear_function())"
   ]
  },
  {
   "cell_type": "markdown",
   "id": "8b132cfb",
   "metadata": {},
   "source": [
    "### 1.2 sigmoid函数"
   ]
  },
  {
   "cell_type": "code",
   "execution_count": 21,
   "id": "41cdaa40",
   "metadata": {},
   "outputs": [],
   "source": [
    "def sigmoid(z):\n",
    "    x = tf.placeholder(tf.float32,name=\"x\")\n",
    "    \n",
    "    sigmoid = tf.sigmoid(x)\n",
    "    \n",
    "    with tf.Session() as sess:\n",
    "        result = sess.run(sigmoid,feed_dict={x:z})\n",
    "        \n",
    "    return result"
   ]
  },
  {
   "cell_type": "code",
   "execution_count": 22,
   "id": "74569eed",
   "metadata": {},
   "outputs": [
    {
     "name": "stdout",
     "output_type": "stream",
     "text": [
      "0.5\n",
      "0.9999939\n"
     ]
    }
   ],
   "source": [
    "# 测试sigmoid\n",
    "print(sigmoid(0))\n",
    "print(sigmoid(12))"
   ]
  },
  {
   "cell_type": "markdown",
   "id": "70bc1d67",
   "metadata": {},
   "source": [
    "### 1.3 成本函数\n",
    "实现成本函数，需要用到的是：\n",
    "tf.nn.sigmoid_cross_entropy_with_logitsv2(logits = ..., labels = ...)\n",
    "  你的代码应该输入z，计算sigmoid（得到a），然后计算交叉熵成本J，所有的步骤都可以通过一次调用tf.nn.sigmoid_cross_entropy_with_logitsv2来完成。"
   ]
  },
  {
   "cell_type": "markdown",
   "id": "88266c0a",
   "metadata": {},
   "source": [
    "### 1.4 使用独热编码"
   ]
  },
  {
   "cell_type": "code",
   "execution_count": 23,
   "id": "127fbd5e",
   "metadata": {},
   "outputs": [],
   "source": [
    "def one_hot_matrix(labels,C):\n",
    "    \"\"\"对样本进行独热编码\"\"\"\n",
    "    \n",
    "    # 创建常量C\n",
    "    C = tf.constant(C,name=\"C\")\n",
    "    \n",
    "    # 使用tf.one.hot进行独热编码\n",
    "    one_hot_matrix = tf.one_hot(indices=labels,depth=C,axis=0)\n",
    "    \n",
    "    # 创建session并运行\n",
    "    sess = tf.Session()\n",
    "    one_hot = sess.run(one_hot_matrix)\n",
    "    \n",
    "    # 关闭session\n",
    "    sess.close()\n",
    "    \n",
    "    return one_hot"
   ]
  },
  {
   "cell_type": "code",
   "execution_count": 24,
   "id": "fb32de82",
   "metadata": {},
   "outputs": [
    {
     "name": "stdout",
     "output_type": "stream",
     "text": [
      "[[0. 0. 0. 1. 0. 0.]\n",
      " [1. 0. 0. 0. 0. 1.]\n",
      " [0. 1. 0. 0. 1. 0.]\n",
      " [0. 0. 1. 0. 0. 0.]]\n"
     ]
    }
   ],
   "source": [
    "# 测试独热编码\n",
    "labels = np.array([1,2,3,0,2,1])\n",
    "one_hot = one_hot_matrix(labels,C=4)\n",
    "print(one_hot)"
   ]
  },
  {
   "cell_type": "markdown",
   "id": "ae6ccb10",
   "metadata": {},
   "source": [
    "### 初始化0和1向量"
   ]
  },
  {
   "cell_type": "code",
   "execution_count": 25,
   "id": "3096f6b8",
   "metadata": {},
   "outputs": [],
   "source": [
    "def ones(shape):\n",
    "    \"\"\"创建全1向量\"\"\"\n",
    "    ones = tf.ones(shape)\n",
    "    \n",
    "    sess = tf.Session()\n",
    "    ones = sess.run(ones)\n",
    "    \n",
    "    sess.close()\n",
    "    \n",
    "    return ones"
   ]
  },
  {
   "cell_type": "code",
   "execution_count": 26,
   "id": "aa2c4f72",
   "metadata": {},
   "outputs": [
    {
     "data": {
      "text/plain": [
       "array([1., 1., 1.], dtype=float32)"
      ]
     },
     "execution_count": 26,
     "metadata": {},
     "output_type": "execute_result"
    }
   ],
   "source": [
    "# 测试初始化1向量\n",
    "ones([3])"
   ]
  },
  {
   "cell_type": "markdown",
   "id": "0c538ac0",
   "metadata": {},
   "source": [
    "## 2-使用TensorFlow构建神经网络\n",
    "### 建立一个算法，使有语音障碍的人与不懂手语的人交流。\n",
    "\n",
    "### 训练集：有从0到5的数字的1080张图片(64x64像素)，每个数字拥有180张图片。\n",
    "### 测试集：有从0到5的数字的120张图片(64x64像素)，每个数字拥有5张图片"
   ]
  },
  {
   "cell_type": "code",
   "execution_count": 28,
   "id": "b97be2f3",
   "metadata": {},
   "outputs": [
    {
     "name": "stdout",
     "output_type": "stream",
     "text": [
      "[1]\n"
     ]
    },
    {
     "data": {
      "image/png": "[encoded data removed]",
      "text/plain": [
       "<Figure size 432x288 with 1 Axes>"
      ]
     },
     "metadata": {
      "needs_background": "light"
     },
     "output_type": "display_data"
    }
   ],
   "source": [
    "# 加载训练集\n",
    "X_train_orig,Y_train_orig,X_test_orig,Y_test_orig,classes = tf_utils.load_dataset()\n",
    "\n",
    "index = 11\n",
    "plt.imshow(X_train_orig[index])\n",
    "print(Y_train_org[:,index])"
   ]
  },
  {
   "cell_type": "code",
   "execution_count": 29,
   "id": "b6c45337",
   "metadata": {},
   "outputs": [
    {
     "data": {
      "text/plain": [
       "((12288, 1080), (12288, 120), (6, 1080), (6, 120))"
      ]
     },
     "execution_count": 29,
     "metadata": {},
     "output_type": "execute_result"
    }
   ],
   "source": [
    "# 数据处理和归一化\n",
    "X_train_flatten = X_train_orig.reshape(X_train_orig.shape[0],-1).T\n",
    "X_test_flatten = X_test_orig.reshape(X_test_orig.shape[0],-1).T\n",
    "\n",
    "X_train = X_train_flatten / 255\n",
    "X_test = X_test_flatten / 255\n",
    "\n",
    "# Y转换为独热矩阵\n",
    "Y_train = tf_utils.convert_to_one_hot(Y_train_orig,6)\n",
    "Y_test = tf_utils.convert_to_one_hot(Y_test_orig,6)\n",
    "\n",
    "X_train.shape,X_test.shape,Y_train.shape,Y_test.shape"
   ]
  },
  {
   "cell_type": "markdown",
   "id": "d3ff7672",
   "metadata": {},
   "source": [
    "### 2.1 创建placeholders"
   ]
  },
  {
   "cell_type": "code",
   "execution_count": 120,
   "id": "173c59fa",
   "metadata": {},
   "outputs": [],
   "source": [
    "def create_placeholders(n_x,n_y):\n",
    "    \"\"\"创建占位符\"\"\"\n",
    "    X = tf.placeholder(tf.float32,[n_x,None],name=\"X\") # 使用None灵活处理占位符提供的样本数量\n",
    "    Y = tf.placeholder(tf.float32,[n_y,None],name=\"Y\")\n",
    "\n",
    "    return X,Y"
   ]
  },
  {
   "cell_type": "code",
   "execution_count": 81,
   "id": "a06c4347",
   "metadata": {},
   "outputs": [
    {
     "data": {
      "text/plain": [
       "(<tf.Tensor 'X_1:0' shape=(12288, None) dtype=float32>,\n",
       " <tf.Tensor 'Y_1:0' shape=(6, None) dtype=float32>)"
      ]
     },
     "execution_count": 81,
     "metadata": {},
     "output_type": "execute_result"
    }
   ],
   "source": [
    "# 测试创建placeholders\n",
    "X,Y = create_placeholders(12288,6)\n",
    "X,Y"
   ]
  },
  {
   "cell_type": "markdown",
   "id": "4fcd908f",
   "metadata": {},
   "source": [
    "### 2.2 初始化参数\n",
    "tf.Variable() 每次都在创建新对象，对于get_variable()来说，对于已经创建的变量对象，就把那个对象返回，如果没有创建变量对象的话，就创建一个新的"
   ]
  },
  {
   "cell_type": "code",
   "execution_count": 82,
   "id": "cfc815e1",
   "metadata": {},
   "outputs": [],
   "source": [
    "def init_params():\n",
    "    \"\"\"初始化神经网络参数W和b\"\"\"\n",
    "    tf.set_random_seed(1)\n",
    "    \n",
    "    W1 = tf.get_variable(\"W1\",[25,12288],initializer=tf.glorot_uniform_initializer(seed=1)) # glorot_uniform_initializer初始化权值\n",
    "    b1 = tf.get_variable(\"b1\",[25,1],initializer=tf.zeros_initializer()) # zeros_initializer初始化全零\n",
    "    W2 = tf.get_variable(\"W2\",[12,25],initializer=tf.glorot_uniform_initializer(seed=1)) \n",
    "    b2 = tf.get_variable(\"b2\",[12,1],initializer=tf.zeros_initializer()) \n",
    "    W3 = tf.get_variable(\"W3\",[6,12],initializer=tf.glorot_uniform_initializer(seed=1)) \n",
    "    b3 = tf.get_variable(\"b3\",[6,1],initializer=tf.zeros_initializer()) \n",
    "    \n",
    "    params = {\n",
    "        \"W1\":W1,\"b1\":b1,\"W2\":W2,\"b2\":b2,\"W3\":W3,\"b3\":b3\n",
    "    }\n",
    "    \n",
    "    return params"
   ]
  },
  {
   "cell_type": "code",
   "execution_count": 83,
   "id": "7c88d253",
   "metadata": {},
   "outputs": [
    {
     "name": "stdout",
     "output_type": "stream",
     "text": [
      "<tf.Variable 'W1:0' shape=(25, 12288) dtype=float32>\n",
      "<tf.Variable 'W2:0' shape=(12, 25) dtype=float32>\n",
      "<tf.Variable 'b1:0' shape=(25, 1) dtype=float32>\n",
      "<tf.Variable 'b2:0' shape=(12, 1) dtype=float32>\n",
      "<tf.Variable 'W3:0' shape=(6, 12) dtype=float32>\n",
      "<tf.Variable 'b3:0' shape=(6, 1) dtype=float32>\n"
     ]
    }
   ],
   "source": [
    "# 测试初始化参数\n",
    "tf.reset_default_graph() # 清除默认图形堆栈并重置全局默认图形\n",
    "\n",
    "with tf.Session() as sess:\n",
    "    params = init_params()\n",
    "    print(params[\"W1\"])\n",
    "    print(params[\"W2\"])\n",
    "    print(params[\"b1\"])\n",
    "    print(params[\"b2\"])\n",
    "    print(params[\"W3\"])\n",
    "    print(params[\"b3\"])"
   ]
  },
  {
   "cell_type": "markdown",
   "id": "8e9c3be5",
   "metadata": {},
   "source": [
    "### 2.3 前向传播"
   ]
  },
  {
   "cell_type": "code",
   "execution_count": 116,
   "id": "f3dfba08",
   "metadata": {},
   "outputs": [],
   "source": [
    "def forward_prop(X,params):\n",
    "    \"\"\"前向传播ReLU+softmax\"\"\"\n",
    "    \n",
    "    W1 = params[\"W1\"]\n",
    "    b1 = params[\"b1\"]\n",
    "    W2 = params[\"W2\"]\n",
    "    b2 = params[\"b2\"]\n",
    "    W3 = params[\"W3\"]\n",
    "    b3 = params[\"b3\"]\n",
    "    \n",
    "    Z1 = tf.matmul(W1,X) + b1\n",
    "    A1 = tf.nn.relu(Z1)\n",
    "    Z2 = tf.matmul(W2,A1) + b2\n",
    "    A2 = tf.nn.relu(Z2)\n",
    "    Z3 = tf.matmul(W3,A2) + b3\n",
    "    \n",
    "    return Z3 # tensorflow中最后线性输出层的输出作为计算损失函数的输入，不需要A3"
   ]
  },
  {
   "cell_type": "code",
   "execution_count": 117,
   "id": "6f164849",
   "metadata": {},
   "outputs": [
    {
     "name": "stdout",
     "output_type": "stream",
     "text": [
      "(12288, None)\n",
      "(6, None)\n",
      "Tensor(\"add_2:0\", shape=(6, None), dtype=float32)\n"
     ]
    }
   ],
   "source": [
    "# 测试前向传播\n",
    "tf.reset_default_graph()\n",
    "\n",
    "with tf.Session() as sess:\n",
    "    X,Y = create_placeholders(12288,6)\n",
    "    params = init_params()\n",
    "    Z3 = forward_prop(X,params)\n",
    "    print(Z3)"
   ]
  },
  {
   "cell_type": "markdown",
   "id": "00aca6ac",
   "metadata": {},
   "source": [
    "### 2.4 计算成本函数"
   ]
  },
  {
   "cell_type": "code",
   "execution_count": 144,
   "id": "93872ad3",
   "metadata": {},
   "outputs": [],
   "source": [
    "def compute_cost(Z3,Y):\n",
    "    \"\"\"计算成本函数\"\"\"\n",
    "    \n",
    "    logits = tf.transpose(Z3) # transpose转置\n",
    "    labels = tf.transpose(Y)\n",
    "    \n",
    "    cost = tf.reduce_mean(tf.nn.softmax_cross_entropy_with_logits_v2(labels=labels,logits=logits))\n",
    "    \n",
    "    return cost"
   ]
  },
  {
   "cell_type": "code",
   "execution_count": 145,
   "id": "14357c0a",
   "metadata": {},
   "outputs": [
    {
     "name": "stdout",
     "output_type": "stream",
     "text": [
      "Tensor(\"Mean:0\", shape=(), dtype=float32)\n"
     ]
    }
   ],
   "source": [
    "# 测试成本函数\n",
    "tf.reset_default_graph()\n",
    "\n",
    "with tf.Session() as sess:\n",
    "    X,Y = create_placeholders(12288,6)\n",
    "    params = init_params()\n",
    "    Z3 = forward_prop(X,params)\n",
    "    cost = compute_cost(Z3,Y)\n",
    "    print(cost)"
   ]
  },
  {
   "cell_type": "markdown",
   "id": "57f3a2e2",
   "metadata": {},
   "source": [
    "### 2.5 反向传播和更新参数\n",
    "得益于编程框架，所有反向传播和参数更新都在1行代码中处理。计算成本函数后，将创建一个“optimizer”对象。 运行tf.session时，必须将此对象与成本函数一起调用，当被调用时，它将使用所选择的方法和学习速率对给定成本进行优化。"
   ]
  },
  {
   "cell_type": "markdown",
   "id": "66c58c38",
   "metadata": {},
   "source": [
    "### 2.6 构建模型"
   ]
  },
  {
   "cell_type": "code",
   "execution_count": 159,
   "id": "0f8c5d4d",
   "metadata": {},
   "outputs": [],
   "source": [
    "def model(X_train,Y_train,X_test,Y_test,a=0.0001,epochs=1500,minibatch_size=64,isPrint=True,isPlot=True):\n",
    "    \"\"\"三层TensorFlow神经网络模型\"\"\"\n",
    "    ops.reset_default_graph() # 重新运行模型时不覆盖tf变量\n",
    "    tf.set_random_seed(1)\n",
    "    seed = 3\n",
    "    (n_x,m) = X_train.shape\n",
    "    n_y = Y_train.shape[0]\n",
    "    costs = []\n",
    "    \n",
    "    # 给X和Y创建占位符\n",
    "    X,Y = create_placeholders(n_x,n_y)\n",
    "\n",
    "    # 初始化参数\n",
    "    params = init_params()\n",
    "    \n",
    "    # 前向传播\n",
    "    Z3 = forward_prop(X,params)\n",
    "    \n",
    "    # 计算成本\n",
    "    cost = compute_cost(Z3,Y)\n",
    "    \n",
    "    # 反向传播\n",
    "    optimizer = tf.train.AdamOptimizer(learning_rate=a).minimize(cost) # 用Adam算法优化\n",
    "    \n",
    "    # 初始化所有变量\n",
    "    init = tf.global_variables_initializer()\n",
    "    \n",
    "    # 开始会话并计算\n",
    "    with tf.Session() as sess:\n",
    "        # 初始化\n",
    "        sess.run(init)\n",
    "        \n",
    "        # 训练循环\n",
    "        for epoch in range(epochs):\n",
    "            epoch_cost = 0 # 每代的成本\n",
    "            num_minibatches = int(m / minibatch_size) # mini-batch数量\n",
    "            seed = seed + 1\n",
    "            minibatches = tf_utils.random_mini_batches(X_train,Y_train,minibatch_size,seed)\n",
    "            \n",
    "            for minibatch in minibatches:\n",
    "                (batch_X,batch_Y) = minibatch\n",
    "                \n",
    "                # 运行session计算optimizer和cost\n",
    "                _ ,minibatch_cost = sess.run([optimizer,cost],feed_dict={X:batch_X,Y:batch_Y})\n",
    "                \n",
    "                # 计算该mini-batch在该epoch中的误差\n",
    "                epoch_cost = epoch_cost + minibatch_cost / num_minibatches\n",
    "                \n",
    "            if epoch % 5 == 0:\n",
    "                costs.append(epoch_cost)\n",
    "                if isPrint and epoch % 100 == 0:\n",
    "                    print(\"第%d代误差为%f\" % (epoch,epoch_cost))\n",
    "                    \n",
    "        if isPlot:\n",
    "            plt.plot(np.squeeze(costs))\n",
    "            plt.xlabel('epochs per tens')\n",
    "            plt.ylabel('cost')\n",
    "            plt.title(\"Learning rate = %f\" % a)\n",
    "            plt.show()\n",
    "                \n",
    "        # 保存学习后的参数\n",
    "        params = sess.run(params)\n",
    "        print(\"参数以保存到session\")\n",
    "            \n",
    "        # 预测并计算准确率\n",
    "        pre = tf.equal(tf.argmax(Z3),tf.argmax(Y))\n",
    "        acc = tf.reduce_mean(tf.cast(pre,\"float\"))\n",
    "        \n",
    "        print(\"训练集准确率：\",acc.eval({X:X_train,Y:Y_train}))\n",
    "        print(\"测试集准确率：\",acc.eval({X:X_test,Y:Y_test}))\n",
    "        \n",
    "        return params"
   ]
  },
  {
   "cell_type": "code",
   "execution_count": 160,
   "id": "76c2589c",
   "metadata": {},
   "outputs": [
    {
     "name": "stdout",
     "output_type": "stream",
     "text": [
      "第0代误差为1.899366\n",
      "第100代误差为1.178147\n",
      "第200代误差为0.742681\n",
      "第300代误差为0.488005\n",
      "第400代误差为0.333458\n",
      "第500代误差为0.231950\n",
      "第600代误差为0.150170\n",
      "第700代误差为0.101681\n",
      "第800代误差为0.067098\n",
      "第900代误差为0.044746\n",
      "第1000代误差为0.029050\n",
      "第1100代误差为0.018227\n",
      "第1200代误差为0.011528\n",
      "第1300代误差为0.007265\n",
      "第1400代误差为0.003867\n"
     ]
    },
    {
     "data": {
      "image/png": "[encoded data removed]",
      "text/plain": [
       "<Figure size 432x288 with 1 Axes>"
      ]
     },
     "metadata": {
      "needs_background": "light"
     },
     "output_type": "display_data"
    },
    {
     "name": "stdout",
     "output_type": "stream",
     "text": [
      "参数以保存到session\n",
      "训练集准确率： 1.0\n",
      "测试集准确率： 0.8833333\n"
     ]
    },
    {
     "ename": "TypeError",
     "evalue": "must be real number, not builtin_function_or_method",
     "output_type": "error",
     "traceback": [
      "\u001b[1;31m---------------------------------------------------------------------------\u001b[0m",
      "\u001b[1;31mTypeError\u001b[0m                                 Traceback (most recent call last)",
      "\u001b[1;32mC:\\Users\\ADMINI~1\\AppData\\Local\\Temp/ipykernel_19256/3817136460.py\u001b[0m in \u001b[0;36m<module>\u001b[1;34m\u001b[0m\n\u001b[0;32m      3\u001b[0m \u001b[0mtime\u001b[0m\u001b[1;33m.\u001b[0m\u001b[0mprocess_time\u001b[0m\u001b[1;33m(\u001b[0m\u001b[1;33m)\u001b[0m\u001b[1;33m\u001b[0m\u001b[1;33m\u001b[0m\u001b[0m\n\u001b[0;32m      4\u001b[0m \u001b[1;31m# 计算时差\u001b[0m\u001b[1;33m\u001b[0m\u001b[1;33m\u001b[0m\u001b[0m\n\u001b[1;32m----> 5\u001b[1;33m \u001b[0mprint\u001b[0m\u001b[1;33m(\u001b[0m\u001b[1;34m\"运行时间：%f\"\u001b[0m \u001b[1;33m%\u001b[0m \u001b[0mtime\u001b[0m\u001b[1;33m.\u001b[0m\u001b[0mprocess_time\u001b[0m\u001b[1;33m)\u001b[0m\u001b[1;33m\u001b[0m\u001b[1;33m\u001b[0m\u001b[0m\n\u001b[0m",
      "\u001b[1;31mTypeError\u001b[0m: must be real number, not builtin_function_or_method"
     ]
    }
   ],
   "source": [
    "# 开始训练\n",
    "params = model(X_train,Y_train,X_test,Y_test)\n",
    "time.process_time()\n",
    "# 计算时差\n",
    "print(\"运行时间：%f\" % time.process_time)"
   ]
  }
 ],
 "metadata": {
  "kernelspec": {
   "display_name": "Python 3 (ipykernel)",
   "language": "python",
   "name": "python3"
  },
  "language_info": {
   "codemirror_mode": {
    "name": "ipython",
    "version": 3
   },
   "file_extension": ".py",
   "mimetype": "text/x-python",
   "name": "python",
   "nbconvert_exporter": "python",
   "pygments_lexer": "ipython3",
   "version": "3.9.7"
  }
 },
 "nbformat": 4,
 "nbformat_minor": 5
}
