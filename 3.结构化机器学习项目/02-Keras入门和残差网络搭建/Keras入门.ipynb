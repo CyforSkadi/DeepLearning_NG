{
 "cells": [
  {
   "cell_type": "markdown",
   "id": "57bf9d00",
   "metadata": {},
   "source": [
    "# 1-Keras入门\n",
    "## 笑脸识别"
   ]
  },
  {
   "cell_type": "code",
   "execution_count": 4,
   "id": "8892436d",
   "metadata": {},
   "outputs": [],
   "source": [
    "import numpy as np\n",
    "from keras import layers\n",
    "from keras.layers import Input,Dense,Activation,ZeroPadding2D,BatchNormalization,Flatten,Conv2D\n",
    "from keras.layers import AveragePooling2D,MaxPooling2D,Dropout,GlobalAveragePooling2D,GlobalMaxPooling2D\n",
    "from keras.models import Model\n",
    "from keras.preprocessing import image\n",
    "from keras.utils import layer_utils\n",
    "from keras.utils.data_utils import get_file\n",
    "from keras.applications.imagenet_utils import preprocess_input\n",
    "import pydot\n",
    "from IPython.display import SVG\n",
    "from keras.utils.vis_utils import model_to_dot\n",
    "from keras.utils.vis_utils import plot_model\n",
    "import kt_utils\n",
    "import keras.backend as K\n",
    "K.set_image_data_format('channels_last')\n",
    "import matplotlib.pyplot as plt\n",
    "from matplotlib.pyplot import imshow\n",
    "\n",
    "%matplotlib inline"
   ]
  },
  {
   "cell_type": "markdown",
   "id": "260de090",
   "metadata": {},
   "source": [
    "### (1)加载数据集"
   ]
  },
  {
   "cell_type": "code",
   "execution_count": 3,
   "id": "b4897835",
   "metadata": {},
   "outputs": [
    {
     "data": {
      "text/plain": [
       "((600, 64, 64, 3), (600, 1), (150, 64, 64, 3), (150, 1))"
      ]
     },
     "execution_count": 3,
     "metadata": {},
     "output_type": "execute_result"
    }
   ],
   "source": [
    "X_train_orig,Y_train_orig,X_test_orig,Y_test_orig,classes = kt_utils.load_dataset()\n",
    "\n",
    "X_train = X_train_orig / 255\n",
    "X_test = X_test_orig / 255\n",
    "Y_train = Y_train_orig.T\n",
    "Y_test = Y_test_orig.T\n",
    "\n",
    "X_train.shape,Y_train.shape,X_test.shape,Y_test.shape"
   ]
  },
  {
   "cell_type": "markdown",
   "id": "c82a238d",
   "metadata": {},
   "source": [
    "### (2)使用Keras框架搭建模型"
   ]
  },
  {
   "cell_type": "code",
   "execution_count": 7,
   "id": "a35e75c3",
   "metadata": {},
   "outputs": [],
   "source": [
    "def HappyModel(input_shape):\n",
    "    \"\"\"笑脸检测模型\"\"\"\n",
    "    # 定义一个placeholder维度为input_shape\n",
    "    X_input = Input(input_shape)\n",
    "    \n",
    "    # 使用0填充X_input\n",
    "    X = ZeroPadding2D((3,3))(X_input)\n",
    "    \n",
    "    # 对X使用Conv->BN->Relu块\n",
    "    X = Conv2D(32,(7,7),strides=(1,1),name='conv0')(X)\n",
    "    X = BatchNormalization(axis=3,name='bn0')(X)\n",
    "    X = Activation('relu')(X)\n",
    "    \n",
    "    # 最大池化层\n",
    "    X = MaxPooling2D((2,2),name='max_pool')(X)\n",
    "    \n",
    "    # 降维成向量并添加全连接层\n",
    "    X = Flatten()(X)\n",
    "    X = Dense(1,activation='sigmoid',name='fc')(X)\n",
    "    \n",
    "    # 创建模型\n",
    "    model = Model(inputs=X_input,outputs=X,name='HappyModel')\n",
    "    \n",
    "    return model "
   ]
  },
  {
   "cell_type": "markdown",
   "id": "3fc338d3",
   "metadata": {},
   "source": [
    "### (3)训练并测试模型\n",
    "### 现在我们已经设计好了我们的模型了，要训练并测试模型我们需要这么做：\n",
    "### 1.创建一个模型实体。\n",
    "### 2.编译模型，可以使用这个语句：model.compile(optimizer = \"...\", loss = \"...\", metrics = [\"accuracy\"])。\n",
    "### 3.训练模型：model.fit(x = ..., y = ..., epochs = ..., batch_size = ...)。\n",
    "### 4.评估模型：model.evaluate(x = ..., y = ...)。"
   ]
  },
  {
   "cell_type": "code",
   "execution_count": 9,
   "id": "9fb47ca0",
   "metadata": {},
   "outputs": [
    {
     "name": "stdout",
     "output_type": "stream",
     "text": [
      "Epoch 1/40\n",
      "12/12 [==============================] - 2s 161ms/step - loss: 2.0541 - accuracy: 0.5833\n",
      "Epoch 2/40\n",
      "12/12 [==============================] - 2s 159ms/step - loss: 0.4702 - accuracy: 0.8167\n",
      "Epoch 3/40\n",
      "12/12 [==============================] - 2s 162ms/step - loss: 0.2138 - accuracy: 0.9033\n",
      "Epoch 4/40\n",
      "12/12 [==============================] - 2s 186ms/step - loss: 0.1859 - accuracy: 0.9400\n",
      "Epoch 5/40\n",
      "12/12 [==============================] - 2s 166ms/step - loss: 0.1530 - accuracy: 0.9433\n",
      "Epoch 6/40\n",
      "12/12 [==============================] - 2s 164ms/step - loss: 0.1091 - accuracy: 0.9650\n",
      "Epoch 7/40\n",
      "12/12 [==============================] - 2s 166ms/step - loss: 0.1007 - accuracy: 0.9750\n",
      "Epoch 8/40\n",
      "12/12 [==============================] - 2s 166ms/step - loss: 0.1088 - accuracy: 0.9600\n",
      "Epoch 9/40\n",
      "12/12 [==============================] - 2s 164ms/step - loss: 0.1206 - accuracy: 0.9567\n",
      "Epoch 10/40\n",
      "12/12 [==============================] - 2s 166ms/step - loss: 0.0897 - accuracy: 0.9750\n",
      "Epoch 11/40\n",
      "12/12 [==============================] - 2s 166ms/step - loss: 0.0762 - accuracy: 0.9767\n",
      "Epoch 12/40\n",
      "12/12 [==============================] - 2s 166ms/step - loss: 0.0752 - accuracy: 0.9767\n",
      "Epoch 13/40\n",
      "12/12 [==============================] - 2s 167ms/step - loss: 0.1026 - accuracy: 0.9583\n",
      "Epoch 14/40\n",
      "12/12 [==============================] - 2s 174ms/step - loss: 0.0726 - accuracy: 0.9833\n",
      "Epoch 15/40\n",
      "12/12 [==============================] - 2s 178ms/step - loss: 0.0570 - accuracy: 0.9850\n",
      "Epoch 16/40\n",
      "12/12 [==============================] - 2s 174ms/step - loss: 0.0652 - accuracy: 0.9767\n",
      "Epoch 17/40\n",
      "12/12 [==============================] - 2s 187ms/step - loss: 0.0484 - accuracy: 0.9833\n",
      "Epoch 18/40\n",
      "12/12 [==============================] - 2s 186ms/step - loss: 0.0305 - accuracy: 0.9950\n",
      "Epoch 19/40\n",
      "12/12 [==============================] - 2s 167ms/step - loss: 0.0354 - accuracy: 0.9933\n",
      "Epoch 20/40\n",
      "12/12 [==============================] - 2s 186ms/step - loss: 0.0314 - accuracy: 0.9933\n",
      "Epoch 21/40\n",
      "12/12 [==============================] - 2s 175ms/step - loss: 0.0328 - accuracy: 0.9950\n",
      "Epoch 22/40\n",
      "12/12 [==============================] - 2s 175ms/step - loss: 0.0296 - accuracy: 0.9933\n",
      "Epoch 23/40\n",
      "12/12 [==============================] - 2s 171ms/step - loss: 0.0232 - accuracy: 0.9950\n",
      "Epoch 24/40\n",
      "12/12 [==============================] - 2s 187ms/step - loss: 0.0296 - accuracy: 0.9900\n",
      "Epoch 25/40\n",
      "12/12 [==============================] - 2s 178ms/step - loss: 0.0304 - accuracy: 0.9900\n",
      "Epoch 26/40\n",
      "12/12 [==============================] - 2s 179ms/step - loss: 0.0246 - accuracy: 0.9933\n",
      "Epoch 27/40\n",
      "12/12 [==============================] - 2s 173ms/step - loss: 0.0209 - accuracy: 0.9933\n",
      "Epoch 28/40\n",
      "12/12 [==============================] - 2s 170ms/step - loss: 0.0243 - accuracy: 0.9950\n",
      "Epoch 29/40\n",
      "12/12 [==============================] - 2s 178ms/step - loss: 0.0216 - accuracy: 0.9967\n",
      "Epoch 30/40\n",
      "12/12 [==============================] - 2s 170ms/step - loss: 0.0190 - accuracy: 0.9967\n",
      "Epoch 31/40\n",
      "12/12 [==============================] - 2s 173ms/step - loss: 0.0205 - accuracy: 0.9917\n",
      "Epoch 32/40\n",
      "12/12 [==============================] - 2s 176ms/step - loss: 0.0164 - accuracy: 0.9933\n",
      "Epoch 33/40\n",
      "12/12 [==============================] - 2s 170ms/step - loss: 0.0164 - accuracy: 0.9967\n",
      "Epoch 34/40\n",
      "12/12 [==============================] - 2s 171ms/step - loss: 0.0147 - accuracy: 0.9983\n",
      "Epoch 35/40\n",
      "12/12 [==============================] - 2s 169ms/step - loss: 0.0158 - accuracy: 0.9967\n",
      "Epoch 36/40\n",
      "12/12 [==============================] - 2s 173ms/step - loss: 0.0276 - accuracy: 0.9900\n",
      "Epoch 37/40\n",
      "12/12 [==============================] - 2s 173ms/step - loss: 0.0241 - accuracy: 0.99500s - loss: 0.0235 - accu\n",
      "Epoch 38/40\n",
      "12/12 [==============================] - 2s 169ms/step - loss: 0.0273 - accuracy: 0.9950\n",
      "Epoch 39/40\n",
      "12/12 [==============================] - 2s 177ms/step - loss: 0.0192 - accuracy: 0.9950\n",
      "Epoch 40/40\n",
      "12/12 [==============================] - 2s 170ms/step - loss: 0.0195 - accuracy: 0.9933\n",
      "5/5 [==============================] - 0s 28ms/step - loss: 0.0933 - accuracy: 0.9600\n",
      "误差为：0.093301,准确度为：0.960000\n"
     ]
    }
   ],
   "source": [
    "# 创建模型实体\n",
    "happy_model = HappyModel(X_train.shape[1:])\n",
    "# 编译模型\n",
    "happy_model.compile(\"adam\",\"binary_crossentropy\",metrics=['accuracy'])\n",
    "# 训练模型\n",
    "happy_model.fit(X_train,Y_train,epochs=40,batch_size=50)\n",
    "# 评估模型\n",
    "preds = happy_model.evaluate(X_test,Y_test,batch_size=32,verbose=1,sample_weight=None)\n",
    "\n",
    "print(\"误差为：%f,准确度为：%f\" % (preds[0],preds[1]))"
   ]
  },
  {
   "cell_type": "markdown",
   "id": "33d95af2",
   "metadata": {},
   "source": [
    "### (4) 打印模型每层细节"
   ]
  },
  {
   "cell_type": "code",
   "execution_count": 10,
   "id": "8006bfc4",
   "metadata": {},
   "outputs": [
    {
     "name": "stdout",
     "output_type": "stream",
     "text": [
      "Model: \"HappyModel\"\n",
      "_________________________________________________________________\n",
      " Layer (type)                Output Shape              Param #   \n",
      "=================================================================\n",
      " input_3 (InputLayer)        [(None, 64, 64, 3)]       0         \n",
      "                                                                 \n",
      " zero_padding2d_2 (ZeroPaddi  (None, 70, 70, 3)        0         \n",
      " ng2D)                                                           \n",
      "                                                                 \n",
      " conv0 (Conv2D)              (None, 64, 64, 32)        4736      \n",
      "                                                                 \n",
      " bn0 (BatchNormalization)    (None, 64, 64, 32)        128       \n",
      "                                                                 \n",
      " activation_2 (Activation)   (None, 64, 64, 32)        0         \n",
      "                                                                 \n",
      " max_pool (MaxPooling2D)     (None, 32, 32, 32)        0         \n",
      "                                                                 \n",
      " flatten_2 (Flatten)         (None, 32768)             0         \n",
      "                                                                 \n",
      " fc (Dense)                  (None, 1)                 32769     \n",
      "                                                                 \n",
      "=================================================================\n",
      "Total params: 37,633\n",
      "Trainable params: 37,569\n",
      "Non-trainable params: 64\n",
      "_________________________________________________________________\n"
     ]
    }
   ],
   "source": [
    "happy_model.summary()"
   ]
  }
 ],
 "metadata": {
  "kernelspec": {
   "display_name": "Python 3 (ipykernel)",
   "language": "python",
   "name": "python3"
  },
  "language_info": {
   "codemirror_mode": {
    "name": "ipython",
    "version": 3
   },
   "file_extension": ".py",
   "mimetype": "text/x-python",
   "name": "python",
   "nbconvert_exporter": "python",
   "pygments_lexer": "ipython3",
   "version": "3.9.7"
  }
 },
 "nbformat": 4,
 "nbformat_minor": 5
}
