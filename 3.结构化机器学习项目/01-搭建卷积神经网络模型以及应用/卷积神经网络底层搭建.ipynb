{
 "cells": [
  {
   "cell_type": "markdown",
   "id": "423b19fe",
   "metadata": {},
   "source": [
    "# 1-卷积神经网络底层搭建\n",
    "## 实现一个拥有卷积层和池化层的网络，包含前向传播和反向传播"
   ]
  },
  {
   "cell_type": "code",
   "execution_count": 1,
   "id": "61079be4",
   "metadata": {},
   "outputs": [],
   "source": [
    "import numpy as np\n",
    "import h5py \n",
    "import matplotlib.pyplot as plt"
   ]
  },
  {
   "cell_type": "code",
   "execution_count": 2,
   "id": "a0d0f452",
   "metadata": {},
   "outputs": [],
   "source": [
    "%matplotlib inline\n",
    "plt.rcParams['figure.figsize'] = (5.0,4.0)\n",
    "plt.rcParams['image.interpolation'] = 'nearest'\n",
    "plt.rcParams['image.cmap'] = 'gray'\n",
    "\n",
    "%load_ext autoreload\n",
    "%autoreload 2\n",
    "\n",
    "np.random.seed(1)"
   ]
  },
  {
   "cell_type": "code",
   "execution_count": 3,
   "id": "03e49e8d",
   "metadata": {},
   "outputs": [],
   "source": [
    "def zero_pad(X,pad):\n",
    "    \"\"\"边界填充\"\"\"\n",
    "    X_paded = np.pad(X,(\n",
    "                        (0,0), # 样本数 不填充\n",
    "                        (pad,pad), # 图像高度 填充p\n",
    "                        (pad,pad), # 图像宽度 填充p\n",
    "                        (0,0)), # 通道数 不填充\n",
    "                        'constant',constant_values = 0)\n",
    "    \n",
    "    return X_paded"
   ]
  },
  {
   "cell_type": "code",
   "execution_count": 4,
   "id": "56a2a01c",
   "metadata": {},
   "outputs": [
    {
     "data": {
      "text/plain": [
       "((4, 3, 3, 2),\n",
       " (4, 7, 7, 2),\n",
       " array([[ 0.90085595, -0.68372786],\n",
       "        [-0.12289023, -0.93576943],\n",
       "        [-0.26788808,  0.53035547]]),\n",
       " array([[0., 0.],\n",
       "        [0., 0.],\n",
       "        [0., 0.],\n",
       "        [0., 0.],\n",
       "        [0., 0.],\n",
       "        [0., 0.],\n",
       "        [0., 0.]]))"
      ]
     },
     "execution_count": 4,
     "metadata": {},
     "output_type": "execute_result"
    }
   ],
   "source": [
    "# 测试边界填充\n",
    "x = np.random.randn(4,3,3,2)\n",
    "x_paded = zero_pad(x,2)\n",
    "x.shape,x_paded.shape,x[1,1],x_paded[1,1]"
   ]
  },
  {
   "cell_type": "code",
   "execution_count": 5,
   "id": "f9c57d52",
   "metadata": {},
   "outputs": [],
   "source": [
    "def conv_single_step(a_slice_prev,W,b):\n",
    "    \"\"\"单步卷积\"\"\"\n",
    "    s = np.multiply(a_slice_prev,W) + b\n",
    "    Z = np.sum(s)\n",
    "    \n",
    "    return Z "
   ]
  },
  {
   "cell_type": "code",
   "execution_count": 7,
   "id": "06c71300",
   "metadata": {},
   "outputs": [
    {
     "name": "stdout",
     "output_type": "stream",
     "text": [
      "-23.16021220252078\n"
     ]
    }
   ],
   "source": [
    "# 测试单步卷积\n",
    "np.random.seed(1)\n",
    "a_slice_prev = np.random.randn(4,4,3)\n",
    "W = np.random.randn(4,4,3)\n",
    "b = np.random.randn(1,1,1)\n",
    "\n",
    "Z = conv_single_step(a_slice_prev,W,b)\n",
    "print(Z)"
   ]
  },
  {
   "cell_type": "code",
   "execution_count": 8,
   "id": "e0ce8e21",
   "metadata": {},
   "outputs": [],
   "source": [
    "def conv_forward(A_prev,W,b,hparams):\n",
    "    \"\"\"卷积前向传播\"\"\"\n",
    "    (m,n_H_prev,n_W_prev,n_C_prev) = A_prev.shape\n",
    "    \n",
    "    (f,f,n_C_prev,n_C) = W.shape\n",
    "    \n",
    "    stride = hparams[\"stride\"]\n",
    "    pad = hparams[\"pad\"]\n",
    "    \n",
    "    n_H = int((n_H_prev - f + 2 * pad) / stride) + 1\n",
    "    n_W = int((n_W_prev - f + 2 * pad) / stride) + 1\n",
    "    \n",
    "    Z = np.zeros((m,n_H,n_W,n_C))\n",
    "    \n",
    "    A_prev_pad = zero_pad(A_prev,pad)\n",
    "    \n",
    "    for i in range(m):\n",
    "        a_prev_pad = A_prev_pad[i]\n",
    "        \n",
    "        for h in range(n_H):\n",
    "            for w in range(n_W):\n",
    "                for c in range(n_C):\n",
    "                    vert_start = h * stride\n",
    "                    vert_end = vert_start + f\n",
    "                    horiz_start = w * stride\n",
    "                    horiz_end = horiz_start + f\n",
    "                    \n",
    "                    a_slice_prev = a_prev_pad[vert_start:vert_end,horiz_start:horiz_end,:] # 切片取出卷积单元\n",
    "                    \n",
    "                    Z[i,h,w,c] = conv_single_step(a_slice_prev,W[:,:,:,c],b[0,0,0,c])\n",
    "                    \n",
    "    cache = (A_prev,W,b,hparams)\n",
    "    \n",
    "    return Z, cache"
   ]
  },
  {
   "cell_type": "code",
   "execution_count": 10,
   "id": "b94f6fec",
   "metadata": {},
   "outputs": [
    {
     "data": {
      "text/plain": [
       "(0.15585932488906465, array([-0.20075807,  0.18656139,  0.41005165]))"
      ]
     },
     "execution_count": 10,
     "metadata": {},
     "output_type": "execute_result"
    }
   ],
   "source": [
    "# 测试卷积前向传播\n",
    "np.random.seed(1)\n",
    "A_prev = np.random.randn(10,4,4,3)\n",
    "W = np.random.randn(2,2,3,8)\n",
    "b = np.random.randn(1,1,1,8)\n",
    "hparams = {\"pad\":2,\"stride\":1}\n",
    "Z,cache_conv = conv_forward(A_prev,W,b,hparams)\n",
    "\n",
    "np.mean(Z),cache_conv[0][1][2][3]"
   ]
  },
  {
   "cell_type": "code",
   "execution_count": 11,
   "id": "f74828bc",
   "metadata": {},
   "outputs": [],
   "source": [
    "def pool_forward(A_prev,hparams,mode=\"max\"):\n",
    "    \"\"\"池化层前向传播\"\"\"\n",
    "    (m,n_H_prev,n_W_prev,n_C_prev) = A_prev.shape\n",
    "    \n",
    "    f = hparams[\"f\"]\n",
    "    stride = hparams[\"stride\"]\n",
    "    \n",
    "    n_H = int((n_H_prev - f) / stride) + 1\n",
    "    n_W = int((n_W_prev - f) / stride) + 1\n",
    "    n_C = n_C_prev\n",
    "    \n",
    "    A = np.zeros((m,n_H,n_W,n_C))\n",
    "    \n",
    "    for i in range(m):\n",
    "        for h in range(n_H):\n",
    "            for w in range(n_W):\n",
    "                for c in range(n_C):\n",
    "                    vert_start = h * stride\n",
    "                    vert_end = vert_start + f\n",
    "                    horiz_start = w * stride\n",
    "                    horiz_end = horiz_start + f\n",
    "                    \n",
    "                    a_slice_prev = A_prev[i,vert_start:vert_end,horiz_start:horiz_end,c] # 切片取出卷积单元\n",
    "                    \n",
    "                    if mode == \"max\":\n",
    "                        A[i,h,w,c] = np.max(a_slice_prev)\n",
    "                    elif mode == \"average\":\n",
    "                        A[i,h,w,c] = np.mean(a_slice_prev)\n",
    "                        \n",
    "                        \n",
    "    cache = (A_prev,hparams)\n",
    "    \n",
    "    return A,cache"
   ]
  },
  {
   "cell_type": "code",
   "execution_count": 12,
   "id": "70c8ef41",
   "metadata": {},
   "outputs": [
    {
     "name": "stdout",
     "output_type": "stream",
     "text": [
      "[[[[1.74481176 1.6924546  2.10025514]]]\n",
      "\n",
      "\n",
      " [[[1.19891788 1.51981682 2.18557541]]]]\n",
      "[[[[-0.09498456  0.11180064 -0.14263511]]]\n",
      "\n",
      "\n",
      " [[[-0.09525108  0.28325018  0.33035185]]]]\n"
     ]
    }
   ],
   "source": [
    "# 测试池化前向传播\n",
    "np.random.seed(1)\n",
    "A_prev = np.random.randn(2,4,4,3)\n",
    "hparams = {\"f\":4,\"stride\":1}\n",
    "A,cache = pool_forward(A_prev,hparams,mode=\"max\")\n",
    "print(A)\n",
    "A,cache = pool_forward(A_prev,hparams,mode=\"average\")\n",
    "print(A)"
   ]
  }
 ],
 "metadata": {
  "kernelspec": {
   "display_name": "Python 3 (ipykernel)",
   "language": "python",
   "name": "python3"
  },
  "language_info": {
   "codemirror_mode": {
    "name": "ipython",
    "version": 3
   },
   "file_extension": ".py",
   "mimetype": "text/x-python",
   "name": "python",
   "nbconvert_exporter": "python",
   "pygments_lexer": "ipython3",
   "version": "3.9.7"
  }
 },
 "nbformat": 4,
 "nbformat_minor": 5
}
