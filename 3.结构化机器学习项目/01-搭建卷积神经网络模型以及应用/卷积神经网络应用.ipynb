{
 "cells": [
  {
   "cell_type": "markdown",
   "id": "b8d9d574",
   "metadata": {},
   "source": [
    "# 2-卷积神经网络应用\n",
    "## 使用TensorFlow实现卷积神经网络，并应用于手势识别"
   ]
  },
  {
   "cell_type": "code",
   "execution_count": 2,
   "id": "fe417acc",
   "metadata": {},
   "outputs": [],
   "source": [
    "import math\n",
    "import numpy as np\n",
    "import h5py\n",
    "import matplotlib.pyplot as plt\n",
    "import matplotlib.image as mpimg\n",
    "import tensorflow.compat.v1 as tf\n",
    "from tensorflow.python.framework import ops\n",
    "import cnn_utils\n",
    "\n",
    "%matplotlib inline\n",
    "np.random.seed(1)\n",
    "\n",
    "tf.disable_eager_execution() "
   ]
  },
  {
   "cell_type": "code",
   "execution_count": 4,
   "id": "7c0e45fd",
   "metadata": {},
   "outputs": [
    {
     "name": "stdout",
     "output_type": "stream",
     "text": [
      "[2]\n"
     ]
    },
    {
     "data": {
      "image/png": "[encoded data removed]",
      "text/plain": [
       "<Figure size 432x288 with 1 Axes>"
      ]
     },
     "metadata": {
      "needs_background": "light"
     },
     "output_type": "display_data"
    }
   ],
   "source": [
    "# 加载训练集\n",
    "X_train_orig,Y_train_orig,X_test_orig,Y_test_orig,classes = cnn_utils.load_dataset()\n",
    "\n",
    "index = 6\n",
    "plt.imshow(X_train_orig[index])\n",
    "print(Y_train_orig[:,index])"
   ]
  },
  {
   "cell_type": "code",
   "execution_count": 5,
   "id": "c0f3330c",
   "metadata": {},
   "outputs": [
    {
     "data": {
      "text/plain": [
       "((1080, 64, 64, 3), (1080, 6), (120, 64, 64, 3), (120, 6))"
      ]
     },
     "execution_count": 5,
     "metadata": {},
     "output_type": "execute_result"
    }
   ],
   "source": [
    "X_train = X_train_orig / 255 \n",
    "X_test = X_test_orig / 255\n",
    "Y_train = cnn_utils.convert_to_one_hot(Y_train_orig,6).T\n",
    "Y_test = cnn_utils.convert_to_one_hot(Y_test_orig,6).T\n",
    "\n",
    "conv_layers = {}\n",
    "\n",
    "X_train.shape,Y_train.shape,X_test.shape,Y_test.shape"
   ]
  },
  {
   "cell_type": "markdown",
   "id": "8a35f984",
   "metadata": {},
   "source": [
    "## (1) 为session创建占位符"
   ]
  },
  {
   "cell_type": "code",
   "execution_count": 6,
   "id": "8dda6633",
   "metadata": {},
   "outputs": [],
   "source": [
    "def create_placeholders(n_H0,n_W0,n_C0,n_y):\n",
    "    \"\"\"创建占位符\"\"\"\n",
    "    X = tf.placeholder(tf.float32,[None,n_H0,n_W0,n_C0]) # 输入样本数量不固定，用None占位\n",
    "    Y = tf.placeholder(tf.float32,[None,n_y])\n",
    "    \n",
    "    \n",
    "    return X,Y"
   ]
  },
  {
   "cell_type": "code",
   "execution_count": 7,
   "id": "a33896da",
   "metadata": {},
   "outputs": [
    {
     "data": {
      "text/plain": [
       "(<tf.Tensor 'Placeholder:0' shape=(None, 64, 64, 3) dtype=float32>,\n",
       " <tf.Tensor 'Placeholder_1:0' shape=(None, 6) dtype=float32>)"
      ]
     },
     "execution_count": 7,
     "metadata": {},
     "output_type": "execute_result"
    }
   ],
   "source": [
    "# 测试占位符\n",
    "X,Y = create_placeholders(64,64,3,6)\n",
    "X,Y"
   ]
  },
  {
   "cell_type": "markdown",
   "id": "6331b2cb",
   "metadata": {},
   "source": [
    "## （2）初始化参数\n",
    "###   现在我们将使用tf.glorot_uniform_initializer(seed = 0) 来初始化权值/过滤器W 1 W1W1、W 2 W2W2。在这里，我们不需要考虑偏置，因为TensorFlow会考虑到的。需要注意的是我们只需要初始化为2D卷积函数，全连接层TensorFlow会自动初始化的。"
   ]
  },
  {
   "cell_type": "code",
   "execution_count": 8,
   "id": "96eb50e1",
   "metadata": {},
   "outputs": [],
   "source": [
    "def init_params():\n",
    "    \"\"\"初始化参数\"\"\"\n",
    "    tf.set_random_seed(1)\n",
    "    \n",
    "    W1 = tf.get_variable(\"W1\",[4,4,3,8],initializer=tf.glorot_uniform_initializer(seed=0))\n",
    "    W2 = tf.get_variable(\"W2\",[2,2,8,16],initializer=tf.glorot_uniform_initializer(seed=0))\n",
    "    \n",
    "    params = {\"W1\":W1,\"W2\":W2}\n",
    "    \n",
    "    return params"
   ]
  },
  {
   "cell_type": "code",
   "execution_count": 9,
   "id": "8462135f",
   "metadata": {},
   "outputs": [
    {
     "name": "stdout",
     "output_type": "stream",
     "text": [
      "[ 0.00131723  0.1417614  -0.04434952  0.09197326  0.14984085 -0.03514394\n",
      " -0.06847463  0.05245192]\n",
      "[-0.08566415  0.17750949  0.11974221  0.16773748 -0.0830943  -0.08058\n",
      " -0.00577033 -0.14643836  0.24162132 -0.05857408 -0.19055021  0.1345228\n",
      " -0.22779644 -0.1601823  -0.16117483 -0.10286498]\n"
     ]
    }
   ],
   "source": [
    "# 测试初始化参数\n",
    "tf.reset_default_graph()\n",
    "with tf.Session() as sess_test:\n",
    "    params = init_params()\n",
    "    init = tf.global_variables_initializer()\n",
    "    sess_test.run(init)\n",
    "    print(params[\"W1\"].eval()[1,1,1])\n",
    "    print(params[\"W2\"].eval()[1,1,1])\n",
    "    \n",
    "    sess_test.close()"
   ]
  },
  {
   "cell_type": "markdown",
   "id": "4caea805",
   "metadata": {},
   "source": [
    "## (3) 前向传播\n",
    "### tf.nn.conv2d(X,W1,strides=[1,s,s,1],padding='SAME'):给定输入X XX和一组过滤器W 1 W1W1，这个函数将会自动使用W 1 W1W1来对X XX进行卷积，第三个输入参数是**[1,s,s,1]**是指对于输入 (m, n_H_prev, n_W_prev, n_C_prev)而言，每次滑动的步伐。你也可以点这里阅读文档\n",
    "### tf.nn.max_pool(A, ksize = [1,f,f,1], strides = [1,s,s,1], padding = 'SAME')：给定输入X XX，该函数将会使用大小为（f,f）以及步伐为(s,s)的窗口对其进行滑动取最大值\n",
    "### tf.nn.relu(Z1)：计算Z1的ReLU激活\n",
    "### tf.contrib.layers.flatten(P)：给定一个输入P，此函数将会把每个样本转化成一维的向量，然后返回一个tensor变量，其维度为（batch_size,k）\n",
    "### tf.contrib.layers.fully_connected(F, num_outputs)：给定一个已经一维化了的输入F，此函数将会返回一个由全连接层计算过后的输出\n",
    "### 使用tf.contrib.layers.fully_connected(F, num_outputs)的时候，全连接层会自动初始化权值且在你训练模型的时候它也会一直参与，所以当我们初始化参数的时候我们不需要专门去初始化它的权值。\n"
   ]
  },
  {
   "cell_type": "code",
   "execution_count": 10,
   "id": "a99f699a",
   "metadata": {},
   "outputs": [],
   "source": [
    "def forward_prop(X,params):\n",
    "    \"\"\"前向传播\"\"\"\n",
    "    W1 = params[\"W1\"]\n",
    "    W2 = params[\"W2\"]\n",
    "    # 第一层卷积：步长1，填充方式SAME\n",
    "    Z1 = tf.nn.conv2d(X,W1,strides=[1,1,1,1],padding=\"SAME\")\n",
    "    A1 = tf.nn.relu(Z1)\n",
    "    # 第一层池化：8×8窗口，步长8，填充方式SAME\n",
    "    P1 = tf.nn.max_pool(A1,ksize=[1,8,8,1],strides=[1,8,8,1],padding=\"SAME\")\n",
    "    \n",
    "    # 第二层卷积：步长1，填充方式SAME\n",
    "    Z2 = tf.nn.conv2d(P1,W2,strides=[1,1,1,1],padding=\"SAME\")\n",
    "    A2 = tf.nn.relu(Z2)\n",
    "    # 第二层池化：4×4窗口，步长4，填充方式SAME\n",
    "    P2 = tf.nn.max_pool(A2,ksize=[1,4,4,1],strides=[1,4,4,1],padding=\"SAME\")\n",
    "    \n",
    "    # 张成一维向量\n",
    "    P = tf.layers.flatten(P2)\n",
    "    \n",
    "    # 全连接层:使用线性激活函数\n",
    "    Z3 = tf.layers.dense(P,6)\n",
    "    \n",
    "    return Z3\n",
    "    "
   ]
  },
  {
   "cell_type": "code",
   "execution_count": 13,
   "id": "14a4b6f9",
   "metadata": {},
   "outputs": [
    {
     "name": "stderr",
     "output_type": "stream",
     "text": [
      "C:\\Users\\ADMINI~1\\AppData\\Local\\Temp/ipykernel_21380/3291306687.py:18: UserWarning: `tf.layers.flatten` is deprecated and will be removed in a future version. Please use `tf.keras.layers.Flatten` instead.\n",
      "  P = tf.layers.flatten(P2)\n",
      "C:\\Users\\ADMINI~1\\AppData\\Local\\Temp/ipykernel_21380/3291306687.py:21: UserWarning: `tf.layers.dense` is deprecated and will be removed in a future version. Please use `tf.keras.layers.Dense` instead.\n",
      "  Z3 = tf.layers.dense(P,6)\n"
     ]
    },
    {
     "name": "stdout",
     "output_type": "stream",
     "text": [
      "[[ 0.9927579  -1.9926488   0.40574205 -1.0828865   0.5642381  -1.7546117 ]\n",
      " [ 0.93642586 -1.8676597   0.10536456 -1.0255287   0.7649098  -1.9162732 ]]\n"
     ]
    }
   ],
   "source": [
    "# 测试前向传播\n",
    "tf.reset_default_graph()\n",
    "np.random.seed(1)\n",
    "\n",
    "with tf.Session() as sess_test:\n",
    "    X,Y = create_placeholders(64,64,3,6)\n",
    "    params = init_params()\n",
    "    Z3 = forward_prop(X,params)\n",
    "    \n",
    "    init = tf.global_variables_initializer()\n",
    "    sess_test.run(init)\n",
    "    \n",
    "    a = sess_test.run(Z3,{X:np.random.randn(2,64,64,3),Y:np.random.rand(2,6)})\n",
    "    print(a)\n",
    "    \n",
    "    sess_test.close()"
   ]
  },
  {
   "cell_type": "markdown",
   "id": "9cd84f38",
   "metadata": {},
   "source": [
    "## (4) 计算成本函数\n",
    "### tf.nn.softmax_cross_entropy_with_logits(logits = Z3 , lables = Y)：计算softmax的损失函数。这个函数既计算softmax的激活，也计算其损失\n",
    "### tf.reduce_mean：计算的是平均值，使用它来计算所有样本的损失来得到总成本。\n"
   ]
  },
  {
   "cell_type": "code",
   "execution_count": 14,
   "id": "326dabfb",
   "metadata": {},
   "outputs": [],
   "source": [
    "def compute_cost(Z3,Y):\n",
    "    \"\"\"成本函数\"\"\"\n",
    "    cost = tf.reduce_mean(tf.nn.softmax_cross_entropy_with_logits_v2(logits=Z3,labels=Y))\n",
    "    \n",
    "    return cost"
   ]
  },
  {
   "cell_type": "code",
   "execution_count": 15,
   "id": "393d8615",
   "metadata": {},
   "outputs": [
    {
     "name": "stdout",
     "output_type": "stream",
     "text": [
      "7.1311083\n"
     ]
    },
    {
     "name": "stderr",
     "output_type": "stream",
     "text": [
      "C:\\Users\\ADMINI~1\\AppData\\Local\\Temp/ipykernel_21380/3291306687.py:18: UserWarning: `tf.layers.flatten` is deprecated and will be removed in a future version. Please use `tf.keras.layers.Flatten` instead.\n",
      "  P = tf.layers.flatten(P2)\n",
      "E:\\anaconda\\lib\\site-packages\\keras\\legacy_tf_layers\\core.py:523: UserWarning: `layer.apply` is deprecated and will be removed in a future version. Please use `layer.__call__` method instead.\n",
      "  return layer.apply(inputs)\n",
      "C:\\Users\\ADMINI~1\\AppData\\Local\\Temp/ipykernel_21380/3291306687.py:21: UserWarning: `tf.layers.dense` is deprecated and will be removed in a future version. Please use `tf.keras.layers.Dense` instead.\n",
      "  Z3 = tf.layers.dense(P,6)\n",
      "E:\\anaconda\\lib\\site-packages\\keras\\legacy_tf_layers\\core.py:255: UserWarning: `layer.apply` is deprecated and will be removed in a future version. Please use `layer.__call__` method instead.\n",
      "  return layer.apply(inputs)\n"
     ]
    }
   ],
   "source": [
    "# 测试成本函数\n",
    "tf.reset_default_graph()\n",
    "\n",
    "\n",
    "with tf.Session() as sess_test:\n",
    "    np.random.seed(1)\n",
    "    X,Y = create_placeholders(64,64,3,6)\n",
    "    params = init_params()\n",
    "    Z3 = forward_prop(X,params)\n",
    "    cost = compute_cost(Z3,Y)\n",
    "    \n",
    "    init = tf.global_variables_initializer()\n",
    "    sess_test.run(init)\n",
    "    \n",
    "    a = sess_test.run(cost,{X:np.random.randn(4,64,64,3),Y:np.random.rand(4,6)})\n",
    "    print(a)\n",
    "    \n",
    "    sess_test.close()"
   ]
  },
  {
   "cell_type": "markdown",
   "id": "e4eb8400",
   "metadata": {},
   "source": [
    "## （5）搭建模型\n"
   ]
  },
  {
   "cell_type": "code",
   "execution_count": 22,
   "id": "9b1fc2d1",
   "metadata": {},
   "outputs": [],
   "source": [
    "def model(X_train,Y_train,X_test,Y_test,a=0.005,epochs=100,minibatch_size=64,isPrint=True,isPlot=True):\n",
    "    \"\"\"卷积神经网络模型\"\"\"\n",
    "    ops.reset_default_graph()\n",
    "    tf.set_random_seed(1)\n",
    "    seed = 3\n",
    "    (m,n_H0,n_W0,n_C0) = X_train.shape\n",
    "    n_y = Y_train.shape[1]\n",
    "    costs = []\n",
    "    \n",
    "    # 创建占位符\n",
    "    X,Y = create_placeholders(n_H0,n_W0,n_C0,n_y)\n",
    "    # 初始化参数\n",
    "    params = init_params()\n",
    "    # 前向传播\n",
    "    Z3 = forward_prop(X,params)\n",
    "    # 计算成本\n",
    "    cost = compute_cost(Z3,Y)\n",
    "    # 反向传播\n",
    "    optimizer = tf.train.AdamOptimizer(learning_rate=a).minimize(cost)\n",
    "    \n",
    "    # 初始化全局变量\n",
    "    init = tf.global_variables_initializer()\n",
    "    # 开始运行\n",
    "    with tf.Session() as sess:\n",
    "        sess.run(init)\n",
    "        for epoch in range(epochs):\n",
    "            minibatch_cost = 0\n",
    "            num_minibatches = int(m / minibatch_size)\n",
    "            seed = seed + 1\n",
    "            minibatches = cnn_utils.random_mini_batches(X_train,Y_train,minibatch_size,seed)\n",
    "            \n",
    "            for minibatch in minibatches:\n",
    "                (batch_X,batch_Y) = minibatch\n",
    "                _,temp_cost = sess.run([optimizer,cost],feed_dict={X:batch_X,Y:batch_Y})\n",
    "                minibatch_cost += temp_cost / num_minibatches\n",
    "                \n",
    "            if isPrint:\n",
    "                if epoch % 5 == 0:\n",
    "                    print(\"第%d次迭代，误差为%f\" % (epoch,minibatch_cost))\n",
    "                    \n",
    "            costs.append(minibatch_cost)\n",
    "            \n",
    "        if isPlot:\n",
    "            plt.plot(np.squeeze(costs))\n",
    "            plt.xlabel('epochs per tens')\n",
    "            plt.ylabel('cost')\n",
    "            plt.title(\"Learning rate = %f\" % a)\n",
    "            plt.show()\n",
    "            \n",
    "        # 预测\n",
    "        corrent_pre = tf.equal(tf.arg_max(Z3,1),tf.arg_max(Y,1))\n",
    "        acc = tf.reduce_mean(tf.cast(corrent_pre,\"float\"))\n",
    "        print(\"训练集准确率：\",acc.eval({X:X_train,Y:Y_train}))\n",
    "        print(\"测试集准确率：\",acc.eval({X:X_test,Y:Y_test}))\n",
    "        \n",
    "        return params"
   ]
  },
  {
   "cell_type": "code",
   "execution_count": 24,
   "id": "1dddb994",
   "metadata": {},
   "outputs": [
    {
     "name": "stderr",
     "output_type": "stream",
     "text": [
      "C:\\Users\\ADMINI~1\\AppData\\Local\\Temp/ipykernel_21380/3291306687.py:18: UserWarning: `tf.layers.flatten` is deprecated and will be removed in a future version. Please use `tf.keras.layers.Flatten` instead.\n",
      "  P = tf.layers.flatten(P2)\n",
      "E:\\anaconda\\lib\\site-packages\\keras\\legacy_tf_layers\\core.py:523: UserWarning: `layer.apply` is deprecated and will be removed in a future version. Please use `layer.__call__` method instead.\n",
      "  return layer.apply(inputs)\n",
      "C:\\Users\\ADMINI~1\\AppData\\Local\\Temp/ipykernel_21380/3291306687.py:21: UserWarning: `tf.layers.dense` is deprecated and will be removed in a future version. Please use `tf.keras.layers.Dense` instead.\n",
      "  Z3 = tf.layers.dense(P,6)\n",
      "E:\\anaconda\\lib\\site-packages\\keras\\legacy_tf_layers\\core.py:255: UserWarning: `layer.apply` is deprecated and will be removed in a future version. Please use `layer.__call__` method instead.\n",
      "  return layer.apply(inputs)\n"
     ]
    },
    {
     "name": "stdout",
     "output_type": "stream",
     "text": [
      "第0次迭代，误差为1.917300\n",
      "第5次迭代，误差为1.650866\n",
      "第10次迭代，误差为1.009321\n",
      "第15次迭代，误差为0.780809\n",
      "第20次迭代，误差为0.611514\n",
      "第25次迭代，误差为0.576609\n",
      "第30次迭代，误差为0.482294\n",
      "第35次迭代，误差为0.422271\n",
      "第40次迭代，误差为0.382556\n",
      "第45次迭代，误差为0.349630\n",
      "第50次迭代，误差为0.316421\n",
      "第55次迭代，误差为0.286597\n",
      "第60次迭代，误差为0.270198\n",
      "第65次迭代，误差为0.272672\n",
      "第70次迭代，误差为0.225145\n",
      "第75次迭代，误差为0.216107\n",
      "第80次迭代，误差为0.194836\n",
      "第85次迭代，误差为0.151462\n",
      "第90次迭代，误差为0.138109\n",
      "第95次迭代，误差为0.143281\n",
      "第100次迭代，误差为0.115060\n",
      "第105次迭代，误差为0.097909\n",
      "第110次迭代，误差为0.101561\n",
      "第115次迭代，误差为0.089859\n",
      "第120次迭代，误差为0.097660\n",
      "第125次迭代，误差为0.103518\n",
      "第130次迭代，误差为0.061489\n",
      "第135次迭代，误差为0.073635\n",
      "第140次迭代，误差为0.055463\n",
      "第145次迭代，误差为0.045061\n",
      "第150次迭代，误差为0.046293\n",
      "第155次迭代，误差为0.044451\n",
      "第160次迭代，误差为0.031034\n",
      "第165次迭代，误差为0.033218\n",
      "第170次迭代，误差为0.031850\n",
      "第175次迭代，误差为0.033329\n",
      "第180次迭代，误差为0.024029\n",
      "第185次迭代，误差为0.021549\n",
      "第190次迭代，误差为0.016470\n",
      "第195次迭代，误差为0.020045\n",
      "第200次迭代，误差为0.015069\n",
      "第205次迭代，误差为0.025352\n",
      "第210次迭代，误差为0.012254\n",
      "第215次迭代，误差为0.012463\n",
      "第220次迭代，误差为0.009540\n",
      "第225次迭代，误差为0.008877\n",
      "第230次迭代，误差为0.008568\n",
      "第235次迭代，误差为0.009263\n",
      "第240次迭代，误差为0.008120\n",
      "第245次迭代，误差为0.007005\n",
      "第250次迭代，误差为0.005961\n",
      "第255次迭代，误差为0.005686\n",
      "第260次迭代，误差为0.005888\n",
      "第265次迭代，误差为0.006920\n",
      "第270次迭代，误差为0.004854\n",
      "第275次迭代，误差为0.004864\n",
      "第280次迭代，误差为0.004049\n",
      "第285次迭代，误差为0.004227\n",
      "第290次迭代，误差为0.005523\n",
      "第295次迭代，误差为0.003701\n",
      "第300次迭代，误差为0.003655\n",
      "第305次迭代，误差为0.004048\n",
      "第310次迭代，误差为0.002977\n",
      "第315次迭代，误差为0.003564\n",
      "第320次迭代，误差为0.002673\n",
      "第325次迭代，误差为0.002532\n",
      "第330次迭代，误差为0.002150\n",
      "第335次迭代，误差为0.002160\n",
      "第340次迭代，误差为0.002000\n",
      "第345次迭代，误差为0.002184\n",
      "第350次迭代，误差为0.001597\n",
      "第355次迭代，误差为0.001726\n",
      "第360次迭代，误差为0.002045\n",
      "第365次迭代，误差为0.001297\n",
      "第370次迭代，误差为0.001335\n",
      "第375次迭代，误差为0.001166\n",
      "第380次迭代，误差为0.001114\n",
      "第385次迭代，误差为0.001069\n",
      "第390次迭代，误差为0.001265\n",
      "第395次迭代，误差为0.000959\n",
      "第400次迭代，误差为0.000923\n",
      "第405次迭代，误差为0.001127\n",
      "第410次迭代，误差为0.128662\n",
      "第415次迭代，误差为0.026531\n",
      "第420次迭代，误差为0.001968\n",
      "第425次迭代，误差为0.001472\n",
      "第430次迭代，误差为0.001304\n",
      "第435次迭代，误差为0.001229\n",
      "第440次迭代，误差为0.001110\n",
      "第445次迭代，误差为0.001061\n",
      "第450次迭代，误差为0.001021\n",
      "第455次迭代，误差为0.000965\n",
      "第460次迭代，误差为0.000944\n",
      "第465次迭代，误差为0.000913\n",
      "第470次迭代，误差为0.000866\n",
      "第475次迭代，误差为0.000838\n",
      "第480次迭代，误差为0.000809\n",
      "第485次迭代，误差为0.000787\n",
      "第490次迭代，误差为0.000764\n",
      "第495次迭代，误差为0.000753\n"
     ]
    },
    {
     "data": {
      "image/png": "[encoded data removed]",
      "text/plain": [
       "<Figure size 432x288 with 1 Axes>"
      ]
     },
     "metadata": {
      "needs_background": "light"
     },
     "output_type": "display_data"
    },
    {
     "name": "stdout",
     "output_type": "stream",
     "text": [
      "训练集准确率： 1.0\n",
      "测试集准确率： 0.8833333\n"
     ]
    }
   ],
   "source": [
    "params = model(X_train,Y_train,X_test,Y_test,epochs=500)"
   ]
  }
 ],
 "metadata": {
  "kernelspec": {
   "display_name": "Python 3 (ipykernel)",
   "language": "python",
   "name": "python3"
  },
  "language_info": {
   "codemirror_mode": {
    "name": "ipython",
    "version": 3
   },
   "file_extension": ".py",
   "mimetype": "text/x-python",
   "name": "python",
   "nbconvert_exporter": "python",
   "pygments_lexer": "ipython3",
   "version": "3.9.7"
  }
 },
 "nbformat": 4,
 "nbformat_minor": 5
}
