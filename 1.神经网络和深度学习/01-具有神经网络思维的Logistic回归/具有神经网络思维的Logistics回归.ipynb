{
 "cells": [
  {
   "cell_type": "code",
   "execution_count": 31,
   "id": "82362f09",
   "metadata": {},
   "outputs": [],
   "source": [
    "import numpy as np\n",
    "import matplotlib.pyplot as plt\n",
    "import h5py\n",
    "from lr_utils import load_dataset"
   ]
  },
  {
   "cell_type": "code",
   "execution_count": 32,
   "id": "9d22b77c",
   "metadata": {},
   "outputs": [
    {
     "data": {
      "text/plain": [
       "((209, 64, 64, 3), (1, 209))"
      ]
     },
     "execution_count": 32,
     "metadata": {},
     "output_type": "execute_result"
    }
   ],
   "source": [
    "train_set_x_orig,train_set_y,test_set_x_orig,test_set_y,classes = load_dataset()\n",
    "train_set_x_orig.shape,train_set_y.shape"
   ]
  },
  {
   "cell_type": "code",
   "execution_count": 33,
   "id": "e794facb",
   "metadata": {},
   "outputs": [
    {
     "data": {
      "text/plain": [
       "<matplotlib.image.AxesImage at 0x22e5dff73d0>"
      ]
     },
     "execution_count": 33,
     "metadata": {},
     "output_type": "execute_result"
    },
    {
     "data": {
      "image/png": "[encoded data removed]",
      "text/plain": [
       "<Figure size 432x288 with 1 Axes>"
      ]
     },
     "metadata": {
      "needs_background": "light"
     },
     "output_type": "display_data"
    }
   ],
   "source": [
    "# 查看图片\n",
    "plt.imshow(train_set_x_orig[25])"
   ]
  },
  {
   "cell_type": "code",
   "execution_count": 34,
   "id": "66e635e6",
   "metadata": {},
   "outputs": [
    {
     "data": {
      "text/plain": [
       "((12288, 209), (12288, 50))"
      ]
     },
     "execution_count": 34,
     "metadata": {},
     "output_type": "execute_result"
    }
   ],
   "source": [
    "# 构造训练集和测试集\n",
    "train_set_x_flatten = train_set_x_orig.reshape(train_set_x_orig.shape[0],-1).T\n",
    "test_set_x_flatten = test_set_x_orig.reshape(test_set_x_orig.shape[0],-1).T\n",
    "train_set_x_flatten.shape,test_set_x_flatten.shape"
   ]
  },
  {
   "cell_type": "code",
   "execution_count": 35,
   "id": "b567d724",
   "metadata": {},
   "outputs": [],
   "source": [
    "# 数据标准化\n",
    "train_set_x = train_set_x_flatten/255\n",
    "test_set_x_ = test_set_x_flatten/255"
   ]
  },
  {
   "cell_type": "code",
   "execution_count": 36,
   "id": "d56d722e",
   "metadata": {},
   "outputs": [],
   "source": [
    "def sigmoid(z):\n",
    "    return 1 / (1 + np.exp(-z))"
   ]
  },
  {
   "cell_type": "code",
   "execution_count": 37,
   "id": "d95c3ab3",
   "metadata": {},
   "outputs": [],
   "source": [
    "# 初始化参数w和b\n",
    "w = np.zeros((train_set_x.shape[0],1))\n",
    "w.shape\n",
    "b = 0"
   ]
  },
  {
   "cell_type": "code",
   "execution_count": 38,
   "id": "1e378e45",
   "metadata": {},
   "outputs": [],
   "source": [
    "def propagate(w,b,X,Y):\n",
    "    m = X.shape[1]\n",
    "    \n",
    "    A = sigmoid(w.T @ X + b)\n",
    "    cost = (-1 / m) * np.sum(Y * np.log(A) + (1 - Y) * (np.log(1 - A)))\n",
    "    \n",
    "    dw = X @ (A - Y).T / m\n",
    "    db = np.sum(A - Y) / m\n",
    "    \n",
    "    cost = np.squeeze(cost) # 将cost转换为（dim，）\n",
    "    \n",
    "    grads = {\n",
    "        \"dw\":dw,\n",
    "        \"db\":db\n",
    "    }\n",
    "    \n",
    "    return grads,cost"
   ]
  },
  {
   "cell_type": "code",
   "execution_count": 39,
   "id": "1fe616d3",
   "metadata": {},
   "outputs": [],
   "source": [
    "def gradient_des(w,b,X,Y,iters,a,print_cost=False):\n",
    "    \"\"\"梯度下降\"\"\"\n",
    "    costs = []\n",
    "    \n",
    "    for i in range(iters):\n",
    "        grads,cost = propagate(w,b,X,Y)\n",
    "        \n",
    "        dw = grads[\"dw\"]\n",
    "        db = grads[\"db\"]\n",
    "        \n",
    "        w = w - a * dw \n",
    "        b = b - a * db\n",
    "        \n",
    "        costs.append(cost)\n",
    "        \n",
    "        if (print_cost) and (i % 100 == 0):\n",
    "            print(\"迭代次数： %d， 误差为： %f\" % (i,cost))\n",
    "            \n",
    "            \n",
    "    params = {\n",
    "        \"w\":w,\n",
    "        \"b\":b\n",
    "    }\n",
    "    grads = {\n",
    "    \"dw\":dw,\n",
    "    \"db\":db\n",
    "    }\n",
    "    \n",
    "    return params,grads,costs\n",
    "        "
   ]
  },
  {
   "cell_type": "code",
   "execution_count": 40,
   "id": "10bd085d",
   "metadata": {},
   "outputs": [],
   "source": [
    "def predict(w,b,X):\n",
    "    \"\"\"预测\"\"\"\n",
    "    m = X.shape[1]\n",
    "    Y_pre = np.zeros((1,m))\n",
    "    w = w.reshape(X.shape[0],1)\n",
    "    \n",
    "    A = sigmoid(w.T @ X + b)\n",
    "    \n",
    "    for i in range(A.shape[1]):\n",
    "        Y_pre[0,i] = 1 if A[0,i] > 0.5 else 0\n",
    "        \n",
    "        \n",
    "    return Y_pre"
   ]
  },
  {
   "cell_type": "code",
   "execution_count": 44,
   "id": "1eaf7d4a",
   "metadata": {},
   "outputs": [
    {
     "name": "stdout",
     "output_type": "stream",
     "text": [
      "迭代次数： 0， 误差为： 0.693147\n"
     ]
    },
    {
     "name": "stderr",
     "output_type": "stream",
     "text": [
      "C:\\Users\\ADMINI~1\\AppData\\Local\\Temp/ipykernel_17116/1852831675.py:5: RuntimeWarning: divide by zero encountered in log\n",
      "  cost = (-1 / m) * np.sum(Y * np.log(A) + (1 - Y) * (np.log(1 - A)))\n",
      "C:\\Users\\ADMINI~1\\AppData\\Local\\Temp/ipykernel_17116/1852831675.py:5: RuntimeWarning: invalid value encountered in multiply\n",
      "  cost = (-1 / m) * np.sum(Y * np.log(A) + (1 - Y) * (np.log(1 - A)))\n"
     ]
    },
    {
     "name": "stdout",
     "output_type": "stream",
     "text": [
      "迭代次数： 100， 误差为： 1.025272\n",
      "迭代次数： 200， 误差为： 9.768641\n",
      "迭代次数： 300， 误差为： 0.328539\n",
      "迭代次数： 400， 误差为： 0.328260\n",
      "迭代次数： 500， 误差为： 0.099653\n",
      "迭代次数： 600， 误差为： 0.076061\n",
      "迭代次数： 700， 误差为： 0.028311\n",
      "迭代次数： 800， 误差为： 0.017486\n",
      "迭代次数： 900， 误差为： 0.013374\n",
      "迭代次数： 1000， 误差为： 0.011146\n",
      "迭代次数： 1100， 误差为： 0.009721\n",
      "迭代次数： 1200， 误差为： 0.008712\n",
      "迭代次数： 1300， 误差为： 0.007948\n",
      "迭代次数： 1400， 误差为： 0.007342\n",
      "迭代次数： 1500， 误差为： 0.006845\n",
      "迭代次数： 1600， 误差为： 0.006428\n",
      "迭代次数： 1700， 误差为： 0.006071\n",
      "迭代次数： 1800， 误差为： 0.005760\n",
      "迭代次数： 1900， 误差为： 0.005488\n"
     ]
    }
   ],
   "source": [
    "# 模型实现\n",
    "params,grads,costs = gradient_des(w,b,train_set_x,train_set_y,iters=2000,a=0.05,print_cost=True)"
   ]
  },
  {
   "cell_type": "code",
   "execution_count": 53,
   "id": "34d75f9a",
   "metadata": {},
   "outputs": [
    {
     "data": {
      "text/plain": [
       "(1.0, 0.68)"
      ]
     },
     "execution_count": 53,
     "metadata": {},
     "output_type": "execute_result"
    }
   ],
   "source": [
    "w,b = params[\"w\"],params[\"b\"]\n",
    "# 对训练集和测试集进行预测\n",
    "y_pre_train = predict(w,b,train_set_x)\n",
    "y_pre_test = predict(w,b,test_set_x_)\n",
    "\n",
    "np.sum(y_pre_train == train_set_y) / train_set_y.shape[1],np.sum(y_pre_test == test_set_y) / test_set_y.shape[1]"
   ]
  },
  {
   "cell_type": "code",
   "execution_count": 55,
   "id": "a783648a",
   "metadata": {},
   "outputs": [
    {
     "data": {
      "text/plain": [
       "Text(0, 0.5, 'cost')"
      ]
     },
     "execution_count": 55,
     "metadata": {},
     "output_type": "execute_result"
    },
    {
     "data": {
      "image/png": "[encoded data removed]",
      "text/plain": [
       "<Figure size 432x288 with 1 Axes>"
      ]
     },
     "metadata": {
      "needs_background": "light"
     },
     "output_type": "display_data"
    }
   ],
   "source": [
    "plt.plot(costs)\n",
    "plt.xlabel('iters')\n",
    "plt.ylabel('cost')"
   ]
  },
  {
   "cell_type": "code",
   "execution_count": null,
   "id": "f91cc2f6",
   "metadata": {},
   "outputs": [],
   "source": []
  }
 ],
 "metadata": {
  "kernelspec": {
   "display_name": "Python 3 (ipykernel)",
   "language": "python",
   "name": "python3"
  },
  "language_info": {
   "codemirror_mode": {
    "name": "ipython",
    "version": 3
   },
   "file_extension": ".py",
   "mimetype": "text/x-python",
   "name": "python",
   "nbconvert_exporter": "python",
   "pygments_lexer": "ipython3",
   "version": "3.9.7"
  }
 },
 "nbformat": 4,
 "nbformat_minor": 5
}
