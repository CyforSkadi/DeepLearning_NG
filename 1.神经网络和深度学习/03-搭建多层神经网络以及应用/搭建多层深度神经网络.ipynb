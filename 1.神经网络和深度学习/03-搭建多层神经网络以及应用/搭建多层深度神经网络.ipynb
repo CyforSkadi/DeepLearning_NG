{
 "cells": [
  {
   "cell_type": "code",
   "execution_count": 140,
   "id": "49fc65bb",
   "metadata": {},
   "outputs": [],
   "source": [
    "import numpy as np\n",
    "import h5py\n",
    "import matplotlib.pyplot as plt\n",
    "import testCases\n",
    "from dnn_utils import sigmoid,sigmoid_backward,relu,relu_backward\n",
    "import lr_utils"
   ]
  },
  {
   "cell_type": "code",
   "execution_count": 141,
   "id": "7cb1bb7c",
   "metadata": {},
   "outputs": [],
   "source": [
    "np.random.seed(1)"
   ]
  },
  {
   "cell_type": "code",
   "execution_count": 142,
   "id": "962dd245",
   "metadata": {},
   "outputs": [],
   "source": [
    "def init_params(layers_dims):\n",
    "    \n",
    "    np.random.seed(1)\n",
    "    params = {}\n",
    "    \n",
    "    for l in range(1,len(layers_dims)):\n",
    "        params[\"W\" + str(l)] = np.random.randn(layers_dims[l],layers_dims[l-1]) / np.sqrt(layers_dims[l-1])\n",
    "        params[\"b\" + str(l)] = np.zeros((layers_dims[l],1))\n",
    "        \n",
    "    return params"
   ]
  },
  {
   "cell_type": "code",
   "execution_count": 143,
   "id": "76ae6812",
   "metadata": {},
   "outputs": [],
   "source": [
    "def linear_forward(A,W,b):\n",
    "    \"\"\"前向传播线性部分\"\"\"\n",
    "    Z = W @ A + b\n",
    "    cache = (A,W,b)\n",
    "    \n",
    "    return Z,cache"
   ]
  },
  {
   "cell_type": "code",
   "execution_count": 144,
   "id": "10765cb8",
   "metadata": {},
   "outputs": [
    {
     "data": {
      "text/plain": [
       "array([[ 3.26295337, -1.23429987]])"
      ]
     },
     "execution_count": 144,
     "metadata": {},
     "output_type": "execute_result"
    }
   ],
   "source": [
    "# 线性部分测试\n",
    "A,W,b = testCases.linear_forward_test_case()\n",
    "Z,linear_cache = linear_forward(A,W,b)\n",
    "Z"
   ]
  },
  {
   "cell_type": "code",
   "execution_count": 145,
   "id": "16da67bf",
   "metadata": {},
   "outputs": [],
   "source": [
    "def activation_forward(A_pre,W,b,activation):\n",
    "    \"\"\"前向传播激活部分\"\"\"\n",
    "    if activation == \"sigmoid\":\n",
    "        Z,linear_cache = linear_forward(A_pre,W,b)\n",
    "        A,activation_cache = sigmoid(Z)\n",
    "    elif activation == \"relu\":\n",
    "        Z,linear_cache = linear_forward(A_pre,W,b)\n",
    "        A,activation_cache = relu(Z)\n",
    "        \n",
    "    cache = (linear_cache,activation_cache)\n",
    "    \n",
    "    return A,cache"
   ]
  },
  {
   "cell_type": "code",
   "execution_count": 146,
   "id": "03b5cec2",
   "metadata": {},
   "outputs": [
    {
     "name": "stdout",
     "output_type": "stream",
     "text": [
      "[[0.96890023 0.11013289]]\n",
      "[[3.43896131 0.        ]]\n"
     ]
    }
   ],
   "source": [
    "# 激活部分测试\n",
    "A_pre,W,b = testCases.linear_activation_forward_test_case()\n",
    "A,linear_activation_cache = activation_forward(A_pre,W,b,activation=\"sigmoid\")\n",
    "print(A)\n",
    "A,linear_activation_cache = activation_forward(A_pre,W,b,activation=\"relu\")\n",
    "print(A)"
   ]
  },
  {
   "cell_type": "code",
   "execution_count": 147,
   "id": "6703a318",
   "metadata": {},
   "outputs": [],
   "source": [
    "def model_forward(X,params):\n",
    "    \"\"\"多层模型前向传播\"\"\"\n",
    "    caches = []\n",
    "    A = X \n",
    "    L = len(params) // 2\n",
    "    \n",
    "    for l in range(1,L):\n",
    "        A_pre = A\n",
    "        A,cache = activation_forward(A_pre,params['W'+str(l)],params['b'+str(l)],\"relu\")\n",
    "        caches.append(cache)\n",
    "        \n",
    "    AL,cache = activation_forward(A,params['W'+str(L)],params['b'+str(L)],\"sigmoid\")\n",
    "    caches.append(cache)\n",
    "    \n",
    "    return AL,caches"
   ]
  },
  {
   "cell_type": "code",
   "execution_count": 148,
   "id": "cfb90301",
   "metadata": {},
   "outputs": [
    {
     "data": {
      "text/plain": [
       "(array([[0.17007265, 0.2524272 ]]), 2)"
      ]
     },
     "execution_count": 148,
     "metadata": {},
     "output_type": "execute_result"
    }
   ],
   "source": [
    "# 测试前向传播\n",
    "X,params = testCases.L_model_forward_test_case()\n",
    "AL,caches = model_forward(X,params)\n",
    "AL,len(caches)"
   ]
  },
  {
   "cell_type": "code",
   "execution_count": 149,
   "id": "ae114232",
   "metadata": {},
   "outputs": [],
   "source": [
    "def costFunction(AL,Y):\n",
    "    \"\"\"计算损失函数\"\"\"\n",
    "    m = Y.shape[1]\n",
    "    \n",
    "    cost = -np.sum(np.multiply(np.log(AL),Y) + np.multiply(np.log(1 - AL),1 - Y)) / m\n",
    "    cost = np.squeeze(cost)\n",
    "    \n",
    "    return cost"
   ]
  },
  {
   "cell_type": "code",
   "execution_count": 150,
   "id": "62a4f5ae",
   "metadata": {},
   "outputs": [
    {
     "data": {
      "text/plain": [
       "0.414931599615397"
      ]
     },
     "execution_count": 150,
     "metadata": {},
     "output_type": "execute_result"
    }
   ],
   "source": [
    "# 测试损失函数\n",
    "Y,AL = testCases.compute_cost_test_case()\n",
    "costFunction(AL,Y)"
   ]
  },
  {
   "cell_type": "code",
   "execution_count": 151,
   "id": "aa5016ac",
   "metadata": {},
   "outputs": [],
   "source": [
    "def linear_backward(dZ,cache):\n",
    "    \"\"\"反向传播线性部分\"\"\"\n",
    "    A_pre,W,b = cache\n",
    "    m = A_pre.shape[1]\n",
    "    \n",
    "    dW = dZ @ A_pre.T / m \n",
    "    db = np.sum(dZ,axis=1,keepdims=True) / m \n",
    "    dA_pre = W.T @ dZ\n",
    "    \n",
    "    return dA_pre,dW,db"
   ]
  },
  {
   "cell_type": "code",
   "execution_count": 152,
   "id": "f15d2827",
   "metadata": {},
   "outputs": [
    {
     "name": "stdout",
     "output_type": "stream",
     "text": [
      "[[ 0.51822968 -0.19517421]\n",
      " [-0.40506361  0.15255393]\n",
      " [ 2.37496825 -0.89445391]] [[-0.10076895  1.40685096  1.64992505]] [[0.50629448]]\n"
     ]
    }
   ],
   "source": [
    "# 线性部分测试\n",
    "dZ,linear_cache = testCases.linear_backward_test_case()\n",
    "dA_pre,dW,db = linear_backward(dZ,linear_cache)\n",
    "print(dA_pre,dW,db)"
   ]
  },
  {
   "cell_type": "code",
   "execution_count": 153,
   "id": "f9598f92",
   "metadata": {},
   "outputs": [],
   "source": [
    "def activation_backward(dA,cache,activation):\n",
    "    \"\"\"反向传播激活部分\"\"\"\n",
    "    linear_cache,activation_cache = cache\n",
    "    \n",
    "    if activation == \"relu\":\n",
    "        dZ = relu_backward(dA,activation_cache)\n",
    "        dA_pre,dW,db = linear_backward(dZ,linear_cache)\n",
    "    elif activation == \"sigmoid\":\n",
    "        dZ = sigmoid_backward(dA,activation_cache)\n",
    "        dA_pre,dW,db = linear_backward(dZ,linear_cache)\n",
    "        \n",
    "    return dA_pre,dW,db"
   ]
  },
  {
   "cell_type": "code",
   "execution_count": 154,
   "id": "8971ab5f",
   "metadata": {},
   "outputs": [
    {
     "name": "stdout",
     "output_type": "stream",
     "text": [
      "[[ 0.11017994  0.01105339]\n",
      " [ 0.09466817  0.00949723]\n",
      " [-0.05743092 -0.00576154]] [[ 0.10266786  0.09778551 -0.01968084]] [[-0.05729622]]\n"
     ]
    },
    {
     "data": {
      "text/plain": [
       "(array([[ 0.44090989,  0.        ],\n",
       "        [ 0.37883606,  0.        ],\n",
       "        [-0.2298228 ,  0.        ]]),\n",
       " array([[ 0.44513824,  0.37371418, -0.10478989]]),\n",
       " array([[-0.20837892]]))"
      ]
     },
     "execution_count": 154,
     "metadata": {},
     "output_type": "execute_result"
    }
   ],
   "source": [
    "# 激活部分测试\n",
    "AL,linear_activation_cache = testCases.linear_activation_backward_test_case()\n",
    "dA_pre,dW,db =activation_backward(AL,linear_activation_cache,activation = \"sigmoid\")\n",
    "print(dA_pre,dW,db)\n",
    "dA_pre,dW,db =activation_backward(AL,linear_activation_cache,activation = \"relu\")\n",
    "dA_pre,dW,db"
   ]
  },
  {
   "cell_type": "code",
   "execution_count": 155,
   "id": "387ca727",
   "metadata": {},
   "outputs": [],
   "source": [
    "def model_backward(AL,Y,caches):\n",
    "    \"\"\"多层模型反向传播\"\"\"\n",
    "    grads = {}\n",
    "    L = len(caches)\n",
    "    m = AL.shape[1]\n",
    "    Y = Y.reshape(AL.shape)\n",
    "    dAL = - (np.divide(Y,AL) - np.divide(1-Y,1-AL))\n",
    "    \n",
    "    current_cache = caches[L-1]\n",
    "    grads[\"dA\" + str(L)],grads[\"dW\" + str(L)],grads[\"db\" + str(L)] = activation_backward(dAL,current_cache,\"sigmoid\")\n",
    "    \n",
    "    for l in reversed(range(L-1)):\n",
    "        current_cache = caches[l]\n",
    "        dA_pre,dW,db = activation_backward(grads[\"dA\" + str(l+2)],current_cache,\"relu\")\n",
    "        grads[\"dA\" + str(l+1)] = dA_pre\n",
    "        grads[\"dW\" + str(l+1)] = dW\n",
    "        grads[\"db\" + str(l+1)] = db\n",
    "        \n",
    "    return grads"
   ]
  },
  {
   "cell_type": "code",
   "execution_count": 156,
   "id": "cc714c11",
   "metadata": {},
   "outputs": [
    {
     "data": {
      "text/plain": [
       "(array([[0.41010002, 0.07807203, 0.13798444, 0.10502167],\n",
       "        [0.        , 0.        , 0.        , 0.        ],\n",
       "        [0.05283652, 0.01005865, 0.01777766, 0.0135308 ]]),\n",
       " array([[-0.22007063],\n",
       "        [ 0.        ],\n",
       "        [-0.02835349]]),\n",
       " array([[ 0.        ,  0.52257901],\n",
       "        [ 0.        , -0.3269206 ],\n",
       "        [ 0.        , -0.32070404],\n",
       "        [ 0.        , -0.74079187]]))"
      ]
     },
     "execution_count": 156,
     "metadata": {},
     "output_type": "execute_result"
    }
   ],
   "source": [
    "# 测试反向传播\n",
    "AL,Y_assess,caches = testCases.L_model_backward_test_case()\n",
    "grads = model_backward(AL,Y_assess,caches)\n",
    "grads[\"dW1\"],grads[\"db1\"],grads[\"dA1\"]"
   ]
  },
  {
   "cell_type": "code",
   "execution_count": 157,
   "id": "6c5bd16a",
   "metadata": {},
   "outputs": [],
   "source": [
    "def update_params(params,grads,a):\n",
    "    \"\"\"参数更新\"\"\"\n",
    "    for l in range(len(params)//2):\n",
    "        params[\"W\" + str(l+1)] = params[\"W\" + str(l+1)] - a * grads[\"dW\" + str(l+1)]\n",
    "        params[\"b\" + str(l+1)] = params[\"b\" + str(l+1)] - a * grads[\"db\" + str(l+1)]\n",
    "        \n",
    "    return params"
   ]
  },
  {
   "cell_type": "code",
   "execution_count": 158,
   "id": "b6b0fbb9",
   "metadata": {},
   "outputs": [
    {
     "data": {
      "text/plain": [
       "(array([[-0.59562069, -0.09991781, -2.14584584,  1.82662008],\n",
       "        [-1.76569676, -0.80627147,  0.51115557, -1.18258802],\n",
       "        [-1.0535704 , -0.86128581,  0.68284052,  2.20374577]]),\n",
       " array([[-0.04659241],\n",
       "        [-1.28888275],\n",
       "        [ 0.53405496]]))"
      ]
     },
     "execution_count": 158,
     "metadata": {},
     "output_type": "execute_result"
    }
   ],
   "source": [
    "# 参数更新测试\n",
    "params,grads = testCases.update_parameters_test_case()\n",
    "params = update_params(params,grads,0.1)\n",
    "params[\"W1\"],params[\"b1\"]"
   ]
  },
  {
   "cell_type": "code",
   "execution_count": 159,
   "id": "d6832cdc",
   "metadata": {},
   "outputs": [],
   "source": [
    "def two_layer_model(X,Y,layers_dims,a,iters,isPrint=False,isPlot=True):\n",
    "    \"\"\"两层神经网络模型\"\"\"\n",
    "    np.random.seed(1)\n",
    "    grads = {}\n",
    "    costs = []\n",
    "    \n",
    "    # 初始化参数\n",
    "    params = init_params(layers_dims)\n",
    "    \n",
    "    W1 = params[\"W1\"]\n",
    "    b1 = params[\"b1\"]\n",
    "    W2 = params[\"W2\"]\n",
    "    b2 = params[\"b2\"]\n",
    "    \n",
    "    # 迭代\n",
    "    for i in range(iters):\n",
    "        A1,cache1 = activation_forward(X,W1,b1,\"relu\")\n",
    "        A2,cache2 = activation_forward(A1,W2,b2,\"sigmoid\")\n",
    "        # 计算损失函数\n",
    "        cost = costFunction(A2,Y)\n",
    "        # 反向传播\n",
    "        dA2 = - (np.divide(Y,A2) - np.divide(1-Y,1-A2))\n",
    "        dA1,dW2,db2 = activation_backward(dA2,cache2,\"sigmoid\")\n",
    "        dA0,dW1,db1 = activation_backward(dA1,cache1,\"relu\")\n",
    "        \n",
    "        grads[\"dW1\"] = dW1\n",
    "        grads[\"db1\"] = db1\n",
    "        grads[\"dW2\"] = dW2\n",
    "        grads[\"db2\"] = db2\n",
    "        \n",
    "        # 参数更新\n",
    "        params = update_params(params,grads,a)\n",
    "        W1 = params[\"W1\"]\n",
    "        b1 = params[\"b1\"]\n",
    "        W2 = params[\"W2\"]\n",
    "        b2 = params[\"b2\"]\n",
    "        \n",
    "        # 打印cost\n",
    "        if i % 100 == 0:\n",
    "            costs.append(cost)\n",
    "            if isPrint:\n",
    "                print(\"迭代%d次，误差为%f\" % (i,cost))\n",
    "                \n",
    "    # 绘图\n",
    "    if isPlot:\n",
    "        plt.plot(np.squeeze(costs))\n",
    "        plt.xlabel('iters')\n",
    "        plt.ylabel('cost')\n",
    "        plt.show()\n",
    "        \n",
    "    return params"
   ]
  },
  {
   "cell_type": "code",
   "execution_count": 104,
   "id": "712863c3",
   "metadata": {},
   "outputs": [
    {
     "data": {
      "image/png": "[encoded data removed]",
      "text/plain": [
       "<Figure size 432x288 with 1 Axes>"
      ]
     },
     "metadata": {
      "needs_background": "light"
     },
     "output_type": "display_data"
    }
   ],
   "source": [
    "# 加载训练集\n",
    "train_set_x_orig,train_set_y,test_set_x_orig,test_set_y,classes = lr_utils.load_dataset()\n",
    "train_x_flatten = train_set_x_orig.reshape(train_set_x_orig.shape[0],-1).T\n",
    "test_x_flatten = test_set_x_orig.reshape(test_set_x_orig.shape[0],-1).T\n",
    "train_x = train_x_flatten/255\n",
    "train_y = train_set_y\n",
    "test_x = test_x_flatten/255\n",
    "test_y = test_set_y\n",
    "# 训练两层模型\n",
    "layers_dims = [12288,7,1]\n",
    "params = two_layer_model(train_x,train_y,layers_dims,a=0.0075,iters=2500)"
   ]
  },
  {
   "cell_type": "code",
   "execution_count": 160,
   "id": "55b19a56",
   "metadata": {},
   "outputs": [],
   "source": [
    "def predict(X,Y,params):\n",
    "    \"\"\"预测\"\"\"\n",
    "    m = X.shape[1]\n",
    "    n = len(params) // 2\n",
    "    p = np.zeros((1,m))\n",
    "    \n",
    "    probas, caches = model_forward(X,params)\n",
    "    \n",
    "    for i in range(0,probas.shape[1]):\n",
    "        if probas[0,i] > 0.5:\n",
    "            p[0,i] = 1\n",
    "        else:\n",
    "            p[0,i] = 0\n",
    "    return p"
   ]
  },
  {
   "cell_type": "code",
   "execution_count": 106,
   "id": "8e52d980",
   "metadata": {},
   "outputs": [
    {
     "name": "stdout",
     "output_type": "stream",
     "text": [
      "训练集：1.0\n",
      "测试集：0.72\n"
     ]
    }
   ],
   "source": [
    "# 预测训练集和测试集\n",
    "train_pre = predict(train_x,train_y,params)\n",
    "print(\"训练集：\" + str(float(np.sum(train_pre == train_y)/train_x.shape[1])))\n",
    "test_pre = predict(test_x,test_y,params)\n",
    "print(\"测试集：\" + str(float(np.sum(test_pre == test_y)/test_x.shape[1])))"
   ]
  },
  {
   "cell_type": "code",
   "execution_count": 161,
   "id": "c2c205ca",
   "metadata": {},
   "outputs": [],
   "source": [
    "def L_layer_model(X,Y,layer_dims,a,iters,isPrint=False,isPlot=True):\n",
    "    \"\"\"多层神经网络模型\"\"\"\n",
    "    np.random.seed(2)\n",
    "    costs = []\n",
    "    \n",
    "    params = init_params(layer_dims)\n",
    "    \n",
    "    for i in range(0,iters):\n",
    "        AL,caches = model_forward(X,params)\n",
    "        \n",
    "        cost = costFunction(AL,Y)\n",
    "        \n",
    "        grads = model_backward(AL,Y,caches)\n",
    "        \n",
    "        params = update_params(params,grads,a)\n",
    "        \n",
    "        # 打印cost\n",
    "        if i % 100 == 0:\n",
    "            costs.append(cost)\n",
    "            if isPrint:\n",
    "                print(\"迭代%d次，误差为%f\" % (i,cost))\n",
    "                \n",
    "    # 绘图\n",
    "    if isPlot:\n",
    "        plt.plot(np.squeeze(costs))\n",
    "        plt.xlabel('iters')\n",
    "        plt.ylabel('cost')\n",
    "        plt.show()\n",
    "        \n",
    "    return params"
   ]
  },
  {
   "cell_type": "code",
   "execution_count": 163,
   "id": "197083a7",
   "metadata": {},
   "outputs": [
    {
     "data": {
      "image/png": "[encoded data removed]",
      "text/plain": [
       "<Figure size 432x288 with 1 Axes>"
      ]
     },
     "metadata": {
      "needs_background": "light"
     },
     "output_type": "display_data"
    }
   ],
   "source": [
    "# 加载训练集\n",
    "train_set_x_orig,train_set_y,test_set_x_orig,test_set_y,classes = lr_utils.load_dataset()\n",
    "train_x_flatten = train_set_x_orig.reshape(train_set_x_orig.shape[0],-1).T\n",
    "test_x_flatten = test_set_x_orig.reshape(test_set_x_orig.shape[0],-1).T\n",
    "train_x = train_x_flatten/255\n",
    "train_y = train_set_y\n",
    "test_x = test_x_flatten/255\n",
    "test_y = test_set_y\n",
    "# 训练多层模型\n",
    "layers_dims = [12288,20,7,5,1]\n",
    "params = L_layer_model(train_x,train_y,layers_dims,a=0.0075,iters=3000)"
   ]
  },
  {
   "cell_type": "code",
   "execution_count": 164,
   "id": "002b18a1",
   "metadata": {},
   "outputs": [
    {
     "name": "stdout",
     "output_type": "stream",
     "text": [
      "训练集：0.9904306220095693\n",
      "测试集：0.82\n"
     ]
    }
   ],
   "source": [
    "# 预测训练集和测试集\n",
    "train_pre = predict(train_x,train_y,params)\n",
    "print(\"训练集：\" + str(float(np.sum(train_pre == train_y)/train_x.shape[1])))\n",
    "test_pre = predict(test_x,test_y,params)\n",
    "print(\"测试集：\" + str(float(np.sum(test_pre == test_y)/test_x.shape[1])))"
   ]
  },
  {
   "cell_type": "code",
   "execution_count": null,
   "id": "9583345c",
   "metadata": {},
   "outputs": [],
   "source": []
  }
 ],
 "metadata": {
  "kernelspec": {
   "display_name": "Python 3 (ipykernel)",
   "language": "python",
   "name": "python3"
  },
  "language_info": {
   "codemirror_mode": {
    "name": "ipython",
    "version": 3
   },
   "file_extension": ".py",
   "mimetype": "text/x-python",
   "name": "python",
   "nbconvert_exporter": "python",
   "pygments_lexer": "ipython3",
   "version": "3.9.7"
  }
 },
 "nbformat": 4,
 "nbformat_minor": 5
}
