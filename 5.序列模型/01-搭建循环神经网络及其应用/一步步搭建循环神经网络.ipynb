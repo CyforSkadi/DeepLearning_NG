{
 "cells": [
  {
   "cell_type": "markdown",
   "id": "d2628571",
   "metadata": {},
   "source": [
    "# 1-一步步搭建循环神经网络\n",
    "## 使用numpy搭建RNN前向传播和LSTM前向传播"
   ]
  },
  {
   "cell_type": "code",
   "execution_count": 1,
   "id": "7c3037e5",
   "metadata": {},
   "outputs": [],
   "source": [
    "import numpy as np\n",
    "import rnn_utils"
   ]
  },
  {
   "cell_type": "markdown",
   "id": "61ae886a",
   "metadata": {},
   "source": [
    "### (1) RNN及前向传播"
   ]
  },
  {
   "cell_type": "code",
   "execution_count": 2,
   "id": "29f0ffae",
   "metadata": {},
   "outputs": [],
   "source": [
    "def rnn_cell_forward(xt,a_prev,params):\n",
    "    \"\"\"RNN单元前向传播\"\"\"\n",
    "    Wax = params[\"Wax\"]\n",
    "    Waa = params[\"Waa\"]\n",
    "    Wya = params[\"Wya\"]\n",
    "    ba = params[\"ba\"]\n",
    "    by = params[\"by\"]\n",
    "    \n",
    "    a_next = np.tanh(np.dot(Waa,a_prev) + np.dot(Wax,xt) + ba)\n",
    "    \n",
    "    yt_pred = rnn_utils.softmax(np.dot(Wya,a_next) + by)\n",
    "    \n",
    "    cache = (a_next,a_prev,xt,params)\n",
    "    \n",
    "    return a_next,yt_pred,cache"
   ]
  },
  {
   "cell_type": "code",
   "execution_count": 3,
   "id": "037b9391",
   "metadata": {},
   "outputs": [
    {
     "data": {
      "text/plain": [
       "(array([ 0.59584544,  0.18141802,  0.61311866,  0.99808218,  0.85016201,\n",
       "         0.99980978, -0.18887155,  0.99815551,  0.6531151 ,  0.82872037]),\n",
       " (5, 10),\n",
       " array([0.9888161 , 0.01682021, 0.21140899, 0.36817467, 0.98988387,\n",
       "        0.88945212, 0.36920224, 0.9966312 , 0.9982559 , 0.17746526]),\n",
       " (2, 10))"
      ]
     },
     "execution_count": 3,
     "metadata": {},
     "output_type": "execute_result"
    }
   ],
   "source": [
    "# 测试RNN单元前向传播\n",
    "np.random.seed(1)\n",
    "xt = np.random.randn(3,10)\n",
    "a_prev = np.random.randn(5,10)\n",
    "Waa = np.random.randn(5,5)\n",
    "Wax = np.random.randn(5,3)\n",
    "Wya = np.random.randn(2,5)\n",
    "ba = np.random.randn(5,1)\n",
    "by = np.random.randn(2,1)\n",
    "params = {\"Waa\":Waa,\"Wax\":Wax,\"Wya\":Wya,\"ba\":ba,\"by\":by}\n",
    "\n",
    "a_next,yt_pred,cache = rnn_cell_forward(xt,a_prev,params)\n",
    "a_next[4],a_next.shape,yt_pred[1],yt_pred.shape"
   ]
  },
  {
   "cell_type": "code",
   "execution_count": 4,
   "id": "faa18364",
   "metadata": {},
   "outputs": [],
   "source": [
    "def rnn_forward(x,a0,params):\n",
    "    \"\"\"RNN前向传播\"\"\"\n",
    "    caches = []\n",
    "    \n",
    "    n_x,m,T_x = x.shape\n",
    "    n_y,n_a = params[\"Wya\"].shape\n",
    "    \n",
    "    a = np.zeros([n_a,m,T_x])\n",
    "    y_pred = np.zeros([n_y,m,T_x])\n",
    "    \n",
    "    a_next = a0\n",
    "    \n",
    "    for t in range(T_x):\n",
    "        a_next,yt_pred,cache = rnn_cell_forward(x[:,:,t],a_next,params)\n",
    "        \n",
    "        a[:,:,t] = a_next\n",
    "        \n",
    "        y_pred[:,:,t] = yt_pred\n",
    "        \n",
    "        caches.append(cache)\n",
    "        \n",
    "    caches = caches,x\n",
    "    \n",
    "    return a,y_pred,caches"
   ]
  },
  {
   "cell_type": "code",
   "execution_count": 5,
   "id": "7bfee5b5",
   "metadata": {},
   "outputs": [
    {
     "data": {
      "text/plain": [
       "(array([-0.99999375,  0.77911235, -0.99861469, -0.99833267]),\n",
       " (5, 10, 4),\n",
       " array([0.79560373, 0.86224861, 0.11118257, 0.81515947]),\n",
       " (2, 10, 4),\n",
       " array([-1.1425182 , -0.34934272, -0.20889423,  0.58662319]),\n",
       " 2)"
      ]
     },
     "execution_count": 5,
     "metadata": {},
     "output_type": "execute_result"
    }
   ],
   "source": [
    "# 测试RNN前向传播\n",
    "np.random.seed(1)\n",
    "x = np.random.randn(3,10,4)\n",
    "a0= np.random.randn(5,10)\n",
    "Waa = np.random.randn(5,5)\n",
    "Wax = np.random.randn(5,3)\n",
    "Wya = np.random.randn(2,5)\n",
    "ba = np.random.randn(5,1)\n",
    "by = np.random.randn(2,1)\n",
    "params = {\"Waa\":Waa,\"Wax\":Wax,\"Wya\":Wya,\"ba\":ba,\"by\":by}\n",
    "\n",
    "a,y_pred,caches = rnn_forward(x,a0,params)\n",
    "\n",
    "a[4][1],a.shape,y_pred[1][3],y_pred.shape,caches[1][1][3],len(caches)"
   ]
  },
  {
   "cell_type": "markdown",
   "id": "9ca0281a",
   "metadata": {},
   "source": [
    "### （2）LSTM及前向传播"
   ]
  },
  {
   "cell_type": "code",
   "execution_count": 9,
   "id": "cdbca3a4",
   "metadata": {},
   "outputs": [],
   "source": [
    "def lstm_cell_forward(xt,a_prev,c_prev,params):\n",
    "    \"\"\"LSTM单元前向传播\"\"\"\n",
    "    Wf = params[\"Wf\"]\n",
    "    bf = params[\"bf\"]\n",
    "    Wi = params[\"Wi\"]\n",
    "    bi = params[\"bi\"]\n",
    "    Wc = params[\"Wc\"]\n",
    "    bc = params[\"bc\"]\n",
    "    Wo = params[\"Wo\"]\n",
    "    bo = params[\"bo\"]\n",
    "    Wy = params[\"Wy\"]\n",
    "    by = params[\"by\"]\n",
    "    \n",
    "    n_x,m = xt.shape\n",
    "    n_y,n_a = Wy.shape\n",
    "    \n",
    "    # 链接a_prev和xt\n",
    "    contact = np.zeros([n_a + n_x,m])\n",
    "    contact[:n_a,:] = a_prev\n",
    "    contact[n_a:,:] = xt\n",
    "    \n",
    "    # 遗忘门\n",
    "    ft = rnn_utils.sigmoid(np.dot(Wf,contact) + bf)\n",
    "    \n",
    "    # 更新门\n",
    "    it = rnn_utils.sigmoid(np.dot(Wi,contact) + bi)\n",
    "    \n",
    "    # 更新单元\n",
    "    cct = np.tanh(np.dot(Wc,contact) + bc)\n",
    "    c_next = ft * c_prev + it * cct\n",
    "    \n",
    "    # 输出门\n",
    "    ot = rnn_utils.sigmoid(np.dot(Wo,contact) + bo)\n",
    "    a_next = ot * np.tanh(c_next)\n",
    "    \n",
    "    yt_pred = rnn_utils.softmax(np.dot(Wy,a_next) + by)\n",
    "    \n",
    "    \n",
    "    cache = (a_next,c_next,a_prev,c_prev,ft,it,cct,ot,xt,params)\n",
    "    \n",
    "    return a_next,c_next,yt_pred,cache"
   ]
  },
  {
   "cell_type": "code",
   "execution_count": 10,
   "id": "5df22dfb",
   "metadata": {},
   "outputs": [
    {
     "data": {
      "text/plain": [
       "((5, 10), (5, 10), (2, 10), 10)"
      ]
     },
     "execution_count": 10,
     "metadata": {},
     "output_type": "execute_result"
    }
   ],
   "source": [
    "# 测试LSTM单元前向传播\n",
    "np.random.seed(1)\n",
    "xt = np.random.randn(3,10)\n",
    "a_prev = np.random.randn(5,10)\n",
    "c_prev = np.random.randn(5,10)\n",
    "Wf = np.random.randn(5,5+3)\n",
    "bf = np.random.randn(5,1)\n",
    "Wi = np.random.randn(5,5+3)\n",
    "bi = np.random.randn(5,1)\n",
    "Wo = np.random.randn(5,5+3)\n",
    "bo = np.random.randn(5,1)\n",
    "Wc = np.random.randn(5,5+3)\n",
    "bc = np.random.randn(5,1)\n",
    "Wy = np.random.randn(2,5)\n",
    "by = np.random.randn(2,1)\n",
    "\n",
    "params = {\"Wf\":Wf,\"Wi\":Wi,\"Wo\":Wo,\"Wc\":Wc,\"Wy\":Wy,\"bf\":bf,\"bi\":bi,\"bo\":bo,\"bc\":bc,\"by\":by}\n",
    "\n",
    "a_next,c_next,yt_pred,cache = lstm_cell_forward(xt,a_prev,c_prev,params)\n",
    "\n",
    "a_next.shape,c_next.shape,yt_pred.shape,len(cache)"
   ]
  },
  {
   "cell_type": "code",
   "execution_count": 15,
   "id": "1de07b43",
   "metadata": {},
   "outputs": [],
   "source": [
    "def lstm_forward(x,a0,params):\n",
    "    \"\"\"LSTM前向传播\"\"\"\n",
    "    caches = []\n",
    "    \n",
    "    n_x,m,T_x = x.shape\n",
    "    n_y,n_a = params[\"Wy\"].shape\n",
    "    \n",
    "    a = np.zeros([n_a,m,T_x])\n",
    "    c = np.zeros([n_a,m,T_x])\n",
    "    y = np.zeros([n_y,m,T_x])\n",
    "\n",
    "    a_next = a0\n",
    "    c_next = np.zeros([n_a,m])\n",
    "    \n",
    "    for t in range(T_x):\n",
    "        a_next,c_next,yt_pred,cache = lstm_cell_forward(x[:,:,t],a_next,c_next,params)\n",
    "        \n",
    "        a[:,:,t] = a_next\n",
    "        c[:,:,t] = c_next\n",
    "        y[:,:,t] = yt_pred\n",
    "        caches.append(cache)\n",
    "        \n",
    "        \n",
    "    caches = caches,x\n",
    "    return a,y,c,caches"
   ]
  },
  {
   "cell_type": "code",
   "execution_count": 16,
   "id": "f106b8c8",
   "metadata": {},
   "outputs": [
    {
     "data": {
      "text/plain": [
       "((5, 10, 7), (2, 10, 7), 2)"
      ]
     },
     "execution_count": 16,
     "metadata": {},
     "output_type": "execute_result"
    }
   ],
   "source": [
    "# 测试LSTM前向传播\n",
    "np.random.seed(1)\n",
    "x = np.random.randn(3,10,7)\n",
    "a0 = np.random.randn(5,10)\n",
    "Wf = np.random.randn(5,5+3)\n",
    "bf = np.random.randn(5,1)\n",
    "Wi = np.random.randn(5,5+3)\n",
    "bi = np.random.randn(5,1)\n",
    "Wo = np.random.randn(5,5+3)\n",
    "bo = np.random.randn(5,1)\n",
    "Wc = np.random.randn(5,5+3)\n",
    "bc = np.random.randn(5,1)\n",
    "Wy = np.random.randn(2,5)\n",
    "by = np.random.randn(2,1)\n",
    "\n",
    "params = {\"Wf\":Wf,\"Wi\":Wi,\"Wo\":Wo,\"Wc\":Wc,\"Wy\":Wy,\"bf\":bf,\"bi\":bi,\"bo\":bo,\"bc\":bc,\"by\":by}\n",
    "\n",
    "a,y,c,caches = lstm_forward(x,a0,params)\n",
    "\n",
    "a.shape,y.shape,len(caches)"
   ]
  }
 ],
 "metadata": {
  "kernelspec": {
   "display_name": "Python 3 (ipykernel)",
   "language": "python",
   "name": "python3"
  },
  "language_info": {
   "codemirror_mode": {
    "name": "ipython",
    "version": 3
   },
   "file_extension": ".py",
   "mimetype": "text/x-python",
   "name": "python",
   "nbconvert_exporter": "python",
   "pygments_lexer": "ipython3",
   "version": "3.9.7"
  }
 },
 "nbformat": 4,
 "nbformat_minor": 5
}
