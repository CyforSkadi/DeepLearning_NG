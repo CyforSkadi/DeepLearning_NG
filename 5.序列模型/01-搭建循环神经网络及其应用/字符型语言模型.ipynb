{
 "cells": [
  {
   "cell_type": "markdown",
   "id": "9a12fcf2",
   "metadata": {},
   "source": [
    "# 2-字符型语言模型\n",
    "## 构建模型学习不同的名称模式，随机生成新名字"
   ]
  },
  {
   "cell_type": "code",
   "execution_count": 1,
   "id": "39c74212",
   "metadata": {},
   "outputs": [],
   "source": [
    "import numpy as np\n",
    "import random\n",
    "import time \n",
    "import cllm_utils"
   ]
  },
  {
   "cell_type": "markdown",
   "id": "0e84a00c",
   "metadata": {},
   "source": [
    "### (1) 数据集与预处理"
   ]
  },
  {
   "cell_type": "code",
   "execution_count": 2,
   "id": "0d100157",
   "metadata": {},
   "outputs": [
    {
     "name": "stdout",
     "output_type": "stream",
     "text": [
      "共有27种字符19909个\n"
     ]
    }
   ],
   "source": [
    "data = open(\"dinos.txt\",\"r\").read()\n",
    "\n",
    "data = data.lower() # 转换为小写字符\n",
    "\n",
    "chars = list(set(data)) # 转换为无序且不重复的元素列表\n",
    "\n",
    "data_size,vocab_size = len(data),len(chars)\n",
    "\n",
    "print(\"共有%d种字符%d个\" % (vocab_size,data_size))"
   ]
  },
  {
   "cell_type": "code",
   "execution_count": 3,
   "id": "60cf525f",
   "metadata": {},
   "outputs": [
    {
     "name": "stdout",
     "output_type": "stream",
     "text": [
      "{'\\n': 0, 'a': 1, 'b': 2, 'c': 3, 'd': 4, 'e': 5, 'f': 6, 'g': 7, 'h': 8, 'i': 9, 'j': 10, 'k': 11, 'l': 12, 'm': 13, 'n': 14, 'o': 15, 'p': 16, 'q': 17, 'r': 18, 's': 19, 't': 20, 'u': 21, 'v': 22, 'w': 23, 'x': 24, 'y': 25, 'z': 26} {0: '\\n', 1: 'a', 2: 'b', 3: 'c', 4: 'd', 5: 'e', 6: 'f', 7: 'g', 8: 'h', 9: 'i', 10: 'j', 11: 'k', 12: 'l', 13: 'm', 14: 'n', 15: 'o', 16: 'p', 17: 'q', 18: 'r', 19: 's', 20: 't', 21: 'u', 22: 'v', 23: 'w', 24: 'x', 25: 'y', 26: 'z'}\n"
     ]
    }
   ],
   "source": [
    "# 创建字符与索引的相互映射\n",
    "char_to_ix = {ch:i for i,ch in enumerate(sorted(chars))}\n",
    "ix_to_char = {i:ch for i,ch in enumerate(sorted(chars))}\n",
    "\n",
    "print(char_to_ix,ix_to_char)"
   ]
  },
  {
   "cell_type": "markdown",
   "id": "1ac9f764",
   "metadata": {},
   "source": [
    "### (2) 梯度修剪"
   ]
  },
  {
   "cell_type": "code",
   "execution_count": 26,
   "id": "70ab15cd",
   "metadata": {},
   "outputs": [],
   "source": [
    "def clip(gradients,maxValue):\n",
    "    \"\"\"实现最大值梯度修剪\"\"\"\n",
    "    dWaa,dWax,dWya,db,dby= gradients['dWaa'],gradients['dWax'],gradients['dWya'],gradients['db'],gradients['dby']\n",
    "    \n",
    "    for gradient in [dWaa,dWax,dWya,db,dby]:\n",
    "        np.clip(gradient,-maxValue,maxValue,out=gradient)\n",
    "        \n",
    "    gradients = {\"dWaa\":dWaa,\"dWax\":dWax,\"dWya\":dWya,\"db\":db,\"dby\":dby}\n",
    "    \n",
    "    return gradients"
   ]
  },
  {
   "cell_type": "code",
   "execution_count": 27,
   "id": "f8e49bfe",
   "metadata": {},
   "outputs": [
    {
     "data": {
      "text/plain": [
       "((5, 1), (2, 1))"
      ]
     },
     "execution_count": 27,
     "metadata": {},
     "output_type": "execute_result"
    }
   ],
   "source": [
    "# 测试梯度修剪\n",
    "np.random.seed(3)\n",
    "dWax = np.random.randn(5,3)*10\n",
    "dWaa = np.random.randn(5,5)*10\n",
    "dWya = np.random.randn(2,5)*10\n",
    "db = np.random.randn(5,1)*10\n",
    "dby = np.random.randn(2,1)*10\n",
    "gradients = {\"dWaa\":dWaa,\"dWax\":dWax,\"dWya\":dWya,\"db\":db,\"dby\":dby}\n",
    "gradients = clip(gradients,10)\n",
    "\n",
    "\n",
    "gradients[\"db\"].shape,gradients[\"dby\"].shape"
   ]
  },
  {
   "cell_type": "markdown",
   "id": "0a8e22d9",
   "metadata": {},
   "source": [
    "### （3）采样"
   ]
  },
  {
   "cell_type": "code",
   "execution_count": 9,
   "id": "3bccd599",
   "metadata": {},
   "outputs": [],
   "source": [
    "def sample(params,char_to_ix,seed):\n",
    "    \"\"\"对RNN进行采样\"\"\"\n",
    "    Waa,Wax,Wya,by,b = params['Waa'],params['Wax'],params['Wya'],params['by'],params['b']\n",
    "    vocab_size = by.shape[0]\n",
    "    n_a = Waa.shape[1]\n",
    "    \n",
    "    x = np.zeros((vocab_size,1))\n",
    "    a_prev = np.zeros((n_a,1))\n",
    "    indices = []\n",
    "    idx = -1\n",
    "    counter = 0\n",
    "    newline_char = char_to_ix[\"\\n\"]\n",
    "    \n",
    "    while (idx != newline_char and counter < 50):\n",
    "        # 前向传播\n",
    "        a = np.tanh(np.dot(Wax,x) + np.dot(Waa,a_prev) + b)\n",
    "        z = np.dot(Wya,a) + by \n",
    "        y = cllm_utils.softmax(z)\n",
    "        \n",
    "        np.random.seed(counter+seed)\n",
    "        idx = np.random.choice(list(range(vocab_size)),p=y.ravel())\n",
    "        indices.append(idx)\n",
    "        \n",
    "        x = np.zeros((vocab_size,1))\n",
    "        x[idx] = 1\n",
    "        \n",
    "        a_prev = a \n",
    "        \n",
    "        seed += 1\n",
    "        counter += 1\n",
    "        \n",
    "    if counter == 50:\n",
    "        indices.append(char_to_ix[\"\\n\"])\n",
    "        \n",
    "    return indices"
   ]
  },
  {
   "cell_type": "code",
   "execution_count": 11,
   "id": "82a9be71",
   "metadata": {},
   "outputs": [
    {
     "name": "stdout",
     "output_type": "stream",
     "text": [
      "[12, 17, 24, 14, 13, 9, 10, 22, 24, 6, 13, 11, 12, 6, 21, 15, 21, 14, 3, 2, 1, 21, 18, 24, 7, 25, 6, 25, 18, 10, 16, 2, 3, 8, 15, 12, 11, 7, 1, 12, 10, 2, 7, 7, 11, 17, 24, 12, 3, 1, 0]\n",
      "['l', 'q', 'x', 'n', 'm', 'i', 'j', 'v', 'x', 'f', 'm', 'k', 'l', 'f', 'u', 'o', 'u', 'n', 'c', 'b', 'a', 'u', 'r', 'x', 'g', 'y', 'f', 'y', 'r', 'j', 'p', 'b', 'c', 'h', 'o', 'l', 'k', 'g', 'a', 'l', 'j', 'b', 'g', 'g', 'k', 'q', 'x', 'l', 'c', 'a', '\\n']\n"
     ]
    }
   ],
   "source": [
    "# 测试采样\n",
    "np.random.seed(2)\n",
    "n_a = 100 \n",
    "Wax,Waa,Wya = np.random.randn(n_a,vocab_size),np.random.randn(n_a,n_a),np.random.randn(vocab_size,n_a)\n",
    "b,by = np.random.randn(n_a,1),np.random.randn(vocab_size,1)\n",
    "params = {\"Wax\":Wax,\"Waa\":Waa,\"Wya\":Wya,\"b\":b,\"by\":by}\n",
    "\n",
    "indices = sample(params,char_to_ix,0)\n",
    "print(indices)\n",
    "print([ix_to_char[i] for i in indices])"
   ]
  },
  {
   "cell_type": "markdown",
   "id": "43f075a5",
   "metadata": {},
   "source": [
    "### (4) 梯度下降优化"
   ]
  },
  {
   "cell_type": "code",
   "execution_count": 28,
   "id": "16aad81e",
   "metadata": {},
   "outputs": [],
   "source": [
    "def optimize(X,Y,a_prev,params,alpha=0.01):\n",
    "    \"\"\"模型单步训练优化\"\"\"\n",
    "    # 前向传播\n",
    "    loss,cache = cllm_utils.rnn_forward(X,Y,a_prev,params)\n",
    "    \n",
    "    # 反向传播\n",
    "    gradients,a = cllm_utils.rnn_backward(X,Y,params,cache)\n",
    "    \n",
    "    # 梯度修剪\n",
    "    gradients = clip(gradients,5)\n",
    "    \n",
    "    # 更新参数\n",
    "    params = cllm_utils.update_parameters(params,gradients,alpha)\n",
    "    \n",
    "    return loss,gradients,a[len(X)-1]"
   ]
  },
  {
   "cell_type": "code",
   "execution_count": 29,
   "id": "f65d2fc4",
   "metadata": {},
   "outputs": [
    {
     "data": {
      "text/plain": [
       "0.19470931534725341"
      ]
     },
     "execution_count": 29,
     "metadata": {},
     "output_type": "execute_result"
    }
   ],
   "source": [
    "np.random.seed(1)\n",
    "vocab_size,n_a = 27,100\n",
    "a_prev = np.random.randn(n_a,1)\n",
    "Wax,Waa,Wya = np.random.randn(n_a,vocab_size),np.random.randn(n_a,n_a),np.random.randn(vocab_size,n_a)\n",
    "b,by = np.random.randn(n_a,1),np.random.randn(vocab_size,1)\n",
    "params = {\"Wax\":Wax,\"Waa\":Waa,\"Wya\":Wya,\"b\":b,\"by\":by}\n",
    "X = [12,3,5,11,22,3]\n",
    "Y = [4,14,11,22,25,26]\n",
    "\n",
    "loss,gradients,a_last = optimize(X,Y,a_prev,params,alpha=0.01)\n",
    "gradients[\"dWaa\"][1][2]"
   ]
  },
  {
   "cell_type": "markdown",
   "id": "b27886fa",
   "metadata": {},
   "source": [
    "### （5）训练模型"
   ]
  },
  {
   "cell_type": "code",
   "execution_count": 32,
   "id": "fb89a4bc",
   "metadata": {},
   "outputs": [],
   "source": [
    "def model(data,ix_to_char,char_to_ix,epochs=3500,n_a=50,dino_names=7,vocab_size=27):\n",
    "    \"\"\"训练模型并生成恐龙名字\"\"\"\n",
    "    n_x,n_y = vocab_size,vocab_size\n",
    "    params = cllm_utils.initialize_parameters(n_a,n_x,n_y)\n",
    "    loss = cllm_utils.get_initial_loss(vocab_size,dino_names)\n",
    "    \n",
    "    with open(\"dinos.txt\") as f:\n",
    "        examples = f.readlines()\n",
    "    examples = [x.lower().strip() for x in examples]\n",
    "    \n",
    "    np.random.seed(0)\n",
    "    np.random.shuffle(examples)\n",
    "    \n",
    "    a_prev = np.zeros((n_a,1))\n",
    "    \n",
    "    for j in range(epochs):\n",
    "        # 选择训练样本\n",
    "        index = j % len(examples)\n",
    "        X = [None] + [char_to_ix[ch] for ch in examples[index]]\n",
    "        Y = X[1:] + [char_to_ix[\"\\n\"]]\n",
    "        \n",
    "        curr_loss,gradients,a_prev = optimize(X,Y,a_prev,params)\n",
    "        \n",
    "        loss = cllm_utils.smooth(loss,curr_loss)\n",
    "        \n",
    "        if j % 2000 == 0:\n",
    "            print(\"迭代%d几次，误差为%f\" % (j+1,loss))\n",
    "            \n",
    "            seed = 0\n",
    "            \n",
    "            for name in range(dino_names):\n",
    "                # 采样\n",
    "                sampled_indices = sample(params,char_to_ix,seed)\n",
    "                cllm_utils.print_sample(sampled_indices,ix_to_char)\n",
    "                \n",
    "                seed += 1\n",
    "                \n",
    "            print(\"\\n\")\n",
    "            \n",
    "    return params"
   ]
  },
  {
   "cell_type": "code",
   "execution_count": 33,
   "id": "c4ff00c6",
   "metadata": {},
   "outputs": [
    {
     "name": "stdout",
     "output_type": "stream",
     "text": [
      "迭代1几次，误差为23.087336\n",
      "Nkzxwtdmfqoeyhsqwasjkjvu\n",
      "Kneb\n",
      "Kzxwtdmfqoeyhsqwasjkjvu\n",
      "Neb\n",
      "Zxwtdmfqoeyhsqwasjkjvu\n",
      "Eb\n",
      "Xwtdmfqoeyhsqwasjkjvu\n",
      "\n",
      "\n",
      "迭代2001几次，误差为27.884160\n",
      "Liusskeomnolxeros\n",
      "Hmdaairus\n",
      "Hytroligoraurus\n",
      "Lecalosapaus\n",
      "Xusicikoraurus\n",
      "Abalpsamantisaurus\n",
      "Tpraneronxeros\n",
      "\n",
      "\n"
     ]
    }
   ],
   "source": [
    "params = model(data,ix_to_char,char_to_ix)"
   ]
  }
 ],
 "metadata": {
  "kernelspec": {
   "display_name": "Python 3 (ipykernel)",
   "language": "python",
   "name": "python3"
  },
  "language_info": {
   "codemirror_mode": {
    "name": "ipython",
    "version": 3
   },
   "file_extension": ".py",
   "mimetype": "text/x-python",
   "name": "python",
   "nbconvert_exporter": "python",
   "pygments_lexer": "ipython3",
   "version": "3.9.7"
  }
 },
 "nbformat": 4,
 "nbformat_minor": 5
}
